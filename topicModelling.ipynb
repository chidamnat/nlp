{
 "cells": [
  {
   "cell_type": "code",
   "execution_count": 1,
   "metadata": {},
   "outputs": [
    {
     "name": "stderr",
     "output_type": "stream",
     "text": [
      "[nltk_data] Downloading package stopwords to\n",
      "[nltk_data]     C:\\Users\\rmurugan\\AppData\\Roaming\\nltk_data...\n",
      "[nltk_data]   Package stopwords is already up-to-date!\n"
     ]
    },
    {
     "name": "stdout",
     "output_type": "stream",
     "text": [
      "Requirement already satisfied: pyLDAvis in c:\\users\\rmurugan\\anaconda3\\lib\\site-packages (2.1.2)\n",
      "Requirement already satisfied: joblib>=0.8.4 in c:\\users\\rmurugan\\anaconda3\\lib\\site-packages (from pyLDAvis) (0.16.0)\n",
      "Requirement already satisfied: numexpr in c:\\users\\rmurugan\\anaconda3\\lib\\site-packages (from pyLDAvis) (2.7.1)\n",
      "Requirement already satisfied: funcy in c:\\users\\rmurugan\\anaconda3\\lib\\site-packages (from pyLDAvis) (1.15)\n",
      "Requirement already satisfied: scipy>=0.18.0 in c:\\users\\rmurugan\\anaconda3\\lib\\site-packages (from pyLDAvis) (1.5.0)\n",
      "Requirement already satisfied: future in c:\\users\\rmurugan\\anaconda3\\lib\\site-packages (from pyLDAvis) (0.18.2)\n",
      "Requirement already satisfied: pandas>=0.17.0 in c:\\users\\rmurugan\\anaconda3\\lib\\site-packages (from pyLDAvis) (1.0.5)\n",
      "Requirement already satisfied: numpy>=1.9.2 in c:\\users\\rmurugan\\anaconda3\\lib\\site-packages (from pyLDAvis) (1.18.5)\n",
      "Requirement already satisfied: pytest in c:\\users\\rmurugan\\anaconda3\\lib\\site-packages (from pyLDAvis) (5.4.3)\n",
      "Requirement already satisfied: wheel>=0.23.0 in c:\\users\\rmurugan\\anaconda3\\lib\\site-packages (from pyLDAvis) (0.34.2)\n",
      "Requirement already satisfied: jinja2>=2.7.2 in c:\\users\\rmurugan\\anaconda3\\lib\\site-packages (from pyLDAvis) (2.11.2)\n",
      "Requirement already satisfied: pytz>=2017.2 in c:\\users\\rmurugan\\anaconda3\\lib\\site-packages (from pandas>=0.17.0->pyLDAvis) (2020.1)\n",
      "Requirement already satisfied: python-dateutil>=2.6.1 in c:\\users\\rmurugan\\anaconda3\\lib\\site-packages (from pandas>=0.17.0->pyLDAvis) (2.8.1)\n",
      "Requirement already satisfied: py>=1.5.0 in c:\\users\\rmurugan\\anaconda3\\lib\\site-packages (from pytest->pyLDAvis) (1.9.0)\n",
      "Requirement already satisfied: packaging in c:\\users\\rmurugan\\anaconda3\\lib\\site-packages (from pytest->pyLDAvis) (20.4)\n",
      "Requirement already satisfied: attrs>=17.4.0 in c:\\users\\rmurugan\\anaconda3\\lib\\site-packages (from pytest->pyLDAvis) (19.3.0)\n",
      "Requirement already satisfied: more-itertools>=4.0.0 in c:\\users\\rmurugan\\anaconda3\\lib\\site-packages (from pytest->pyLDAvis) (8.4.0)\n",
      "Requirement already satisfied: pluggy<1.0,>=0.12 in c:\\users\\rmurugan\\anaconda3\\lib\\site-packages (from pytest->pyLDAvis) (0.13.1)\n",
      "Requirement already satisfied: wcwidth in c:\\users\\rmurugan\\anaconda3\\lib\\site-packages (from pytest->pyLDAvis) (0.2.5)\n",
      "Requirement already satisfied: atomicwrites>=1.0 in c:\\users\\rmurugan\\anaconda3\\lib\\site-packages (from pytest->pyLDAvis) (1.4.0)\n",
      "Requirement already satisfied: colorama in c:\\users\\rmurugan\\anaconda3\\lib\\site-packages (from pytest->pyLDAvis) (0.4.3)\n",
      "Requirement already satisfied: MarkupSafe>=0.23 in c:\\users\\rmurugan\\anaconda3\\lib\\site-packages (from jinja2>=2.7.2->pyLDAvis) (1.1.1)\n",
      "Requirement already satisfied: six>=1.5 in c:\\users\\rmurugan\\anaconda3\\lib\\site-packages (from python-dateutil>=2.6.1->pandas>=0.17.0->pyLDAvis) (1.15.0)\n",
      "Requirement already satisfied: pyparsing>=2.0.2 in c:\\users\\rmurugan\\anaconda3\\lib\\site-packages (from packaging->pytest->pyLDAvis) (2.4.7)\n"
     ]
    }
   ],
   "source": [
    "import nltk; nltk.download('stopwords')\n",
    "# !python3 -m spacy download en\n",
    "# !python -m spacy download en\n",
    "!pip install pyLDAvis"
   ]
  },
  {
   "cell_type": "code",
   "execution_count": 2,
   "metadata": {},
   "outputs": [],
   "source": [
    "# import libraries\n",
    "import re\n",
    "import numpy as np\n",
    "import pandas as pd\n",
    "from pprint import pprint\n",
    "\n",
    "# Gensim\n",
    "import gensim\n",
    "import gensim.corpora as corpora\n",
    "from gensim.utils import simple_preprocess\n",
    "from gensim.models import CoherenceModel\n",
    "\n",
    "# spacy for lemmatization\n",
    "import spacy\n",
    "\n",
    "# Plotting tools\n",
    "import pyLDAvis\n",
    "import pyLDAvis.gensim  # don't skip this\n",
    "import matplotlib.pyplot as plt\n",
    "%matplotlib inline\n",
    "\n",
    "# Enable logging for gensim - optional\n",
    "import logging\n",
    "logging.basicConfig(format='%(asctime)s : %(levelname)s : %(message)s', level=logging.ERROR)\n",
    "\n",
    "import warnings\n",
    "warnings.filterwarnings(\"ignore\",category=DeprecationWarning)"
   ]
  },
  {
   "cell_type": "code",
   "execution_count": 3,
   "metadata": {},
   "outputs": [],
   "source": [
    "# Prepare for Stopwords\n",
    "from nltk.corpus import stopwords\n",
    "stop_words = stopwords.words('english')\n",
    "stop_words.extend(['from', 'subject', 're', 'edu', 'use'])"
   ]
  },
  {
   "cell_type": "code",
   "execution_count": 4,
   "metadata": {},
   "outputs": [
    {
     "name": "stdout",
     "output_type": "stream",
     "text": [
      "['rec.autos' 'comp.sys.mac.hardware' 'comp.graphics' 'sci.space'\n",
      " 'talk.politics.guns' 'sci.med' 'comp.sys.ibm.pc.hardware'\n",
      " 'comp.os.ms-windows.misc' 'rec.motorcycles' 'talk.religion.misc'\n",
      " 'misc.forsale' 'alt.atheism' 'sci.electronics' 'comp.windows.x'\n",
      " 'rec.sport.hockey' 'rec.sport.baseball' 'soc.religion.christian'\n",
      " 'talk.politics.mideast' 'talk.politics.misc' 'sci.crypt']\n"
     ]
    },
    {
     "data": {
      "text/html": [
       "<div>\n",
       "<style scoped>\n",
       "    .dataframe tbody tr th:only-of-type {\n",
       "        vertical-align: middle;\n",
       "    }\n",
       "\n",
       "    .dataframe tbody tr th {\n",
       "        vertical-align: top;\n",
       "    }\n",
       "\n",
       "    .dataframe thead th {\n",
       "        text-align: right;\n",
       "    }\n",
       "</style>\n",
       "<table border=\"1\" class=\"dataframe\">\n",
       "  <thead>\n",
       "    <tr style=\"text-align: right;\">\n",
       "      <th></th>\n",
       "      <th>content</th>\n",
       "      <th>target</th>\n",
       "      <th>target_names</th>\n",
       "    </tr>\n",
       "  </thead>\n",
       "  <tbody>\n",
       "    <tr>\n",
       "      <th>0</th>\n",
       "      <td>From: lerxst@wam.umd.edu (where's my thing)\\nS...</td>\n",
       "      <td>7</td>\n",
       "      <td>rec.autos</td>\n",
       "    </tr>\n",
       "    <tr>\n",
       "      <th>1</th>\n",
       "      <td>From: guykuo@carson.u.washington.edu (Guy Kuo)...</td>\n",
       "      <td>4</td>\n",
       "      <td>comp.sys.mac.hardware</td>\n",
       "    </tr>\n",
       "    <tr>\n",
       "      <th>2</th>\n",
       "      <td>From: twillis@ec.ecn.purdue.edu (Thomas E Will...</td>\n",
       "      <td>4</td>\n",
       "      <td>comp.sys.mac.hardware</td>\n",
       "    </tr>\n",
       "    <tr>\n",
       "      <th>3</th>\n",
       "      <td>From: jgreen@amber (Joe Green)\\nSubject: Re: W...</td>\n",
       "      <td>1</td>\n",
       "      <td>comp.graphics</td>\n",
       "    </tr>\n",
       "    <tr>\n",
       "      <th>4</th>\n",
       "      <td>From: jcm@head-cfa.harvard.edu (Jonathan McDow...</td>\n",
       "      <td>14</td>\n",
       "      <td>sci.space</td>\n",
       "    </tr>\n",
       "  </tbody>\n",
       "</table>\n",
       "</div>"
      ],
      "text/plain": [
       "                                             content  target  \\\n",
       "0  From: lerxst@wam.umd.edu (where's my thing)\\nS...       7   \n",
       "1  From: guykuo@carson.u.washington.edu (Guy Kuo)...       4   \n",
       "2  From: twillis@ec.ecn.purdue.edu (Thomas E Will...       4   \n",
       "3  From: jgreen@amber (Joe Green)\\nSubject: Re: W...       1   \n",
       "4  From: jcm@head-cfa.harvard.edu (Jonathan McDow...      14   \n",
       "\n",
       "            target_names  \n",
       "0              rec.autos  \n",
       "1  comp.sys.mac.hardware  \n",
       "2  comp.sys.mac.hardware  \n",
       "3          comp.graphics  \n",
       "4              sci.space  "
      ]
     },
     "execution_count": 4,
     "metadata": {},
     "output_type": "execute_result"
    }
   ],
   "source": [
    "# import newsgroups data\n",
    "df = pd.read_json('https://raw.githubusercontent.com/selva86/datasets/master/newsgroups.json')\n",
    "print(df.target_names.unique())\n",
    "df.head()"
   ]
  },
  {
   "cell_type": "code",
   "execution_count": 5,
   "metadata": {},
   "outputs": [
    {
     "name": "stdout",
     "output_type": "stream",
     "text": [
      "['From: (wheres my thing) Subject: WHAT car is this!? Nntp-Posting-Host: '\n",
      " 'rac3.wam.umd.edu Organization: University of Maryland, College Park Lines: '\n",
      " '15 I was wondering if anyone out there could enlighten me on this car I saw '\n",
      " 'the other day. It was a 2-door sports car, looked to be from the late 60s/ '\n",
      " 'early 70s. It was called a Bricklin. The doors were really small. In '\n",
      " 'addition, the front bumper was separate from the rest of the body. This is '\n",
      " 'all I know. If anyone can tellme a model name, engine specs, years of '\n",
      " 'production, where this car is made, history, or whatever info you have on '\n",
      " 'this funky looking car, please e-mail. Thanks, - IL ---- brought to you by '\n",
      " 'your neighborhood Lerxst ---- ']\n"
     ]
    }
   ],
   "source": [
    "# Remove emails and newline characters\n",
    "\n",
    "# convet to list\n",
    "data = df.content.values.tolist()\n",
    "\n",
    "# Remove emails\n",
    "data = [re.sub('\\S*@\\S*\\s?', '', sent) for sent in data]\n",
    "\n",
    "# Remove new line characters\n",
    "data = [re.sub('\\s+', ' ', sent) for sent in data]\n",
    "\n",
    "# Remove disstracting single quotes\n",
    "data = [re.sub(\"\\'\", \"\", sent) for sent in data]\n",
    "\n",
    "pprint(data[:1])"
   ]
  },
  {
   "cell_type": "code",
   "execution_count": 6,
   "metadata": {},
   "outputs": [
    {
     "name": "stdout",
     "output_type": "stream",
     "text": [
      "[['from', 'wheres', 'my', 'thing', 'subject', 'what', 'car', 'is', 'this', 'nntp', 'posting', 'host', 'rac', 'wam', 'umd', 'edu', 'organization', 'university', 'of', 'maryland', 'college', 'park', 'lines', 'was', 'wondering', 'if', 'anyone', 'out', 'there', 'could', 'enlighten', 'me', 'on', 'this', 'car', 'saw', 'the', 'other', 'day', 'it', 'was', 'door', 'sports', 'car', 'looked', 'to', 'be', 'from', 'the', 'late', 'early', 'it', 'was', 'called', 'bricklin', 'the', 'doors', 'were', 'really', 'small', 'in', 'addition', 'the', 'front', 'bumper', 'was', 'separate', 'from', 'the', 'rest', 'of', 'the', 'body', 'this', 'is', 'all', 'know', 'if', 'anyone', 'can', 'tellme', 'model', 'name', 'engine', 'specs', 'years', 'of', 'production', 'where', 'this', 'car', 'is', 'made', 'history', 'or', 'whatever', 'info', 'you', 'have', 'on', 'this', 'funky', 'looking', 'car', 'please', 'mail', 'thanks', 'il', 'brought', 'to', 'you', 'by', 'your', 'neighborhood', 'lerxst'], ['from', 'guy', 'kuo', 'subject', 'si', 'clock', 'poll', 'final', 'call', 'summary', 'final', 'call', 'for', 'si', 'clock', 'reports', 'keywords', 'si', 'acceleration', 'clock', 'upgrade', 'article', 'shelley', 'qvfo', 'innc', 'organization', 'university', 'of', 'washington', 'lines', 'nntp', 'posting', 'host', 'carson', 'washington', 'edu', 'fair', 'number', 'of', 'brave', 'souls', 'who', 'upgraded', 'their', 'si', 'clock', 'oscillator', 'have', 'shared', 'their', 'experiences', 'for', 'this', 'poll', 'please', 'send', 'brief', 'message', 'detailing', 'your', 'experiences', 'with', 'the', 'procedure', 'top', 'speed', 'attained', 'cpu', 'rated', 'speed', 'add', 'on', 'cards', 'and', 'adapters', 'heat', 'sinks', 'hour', 'of', 'usage', 'per', 'day', 'floppy', 'disk', 'functionality', 'with', 'and', 'floppies', 'are', 'especially', 'requested', 'will', 'be', 'summarizing', 'in', 'the', 'next', 'two', 'days', 'so', 'please', 'add', 'to', 'the', 'network', 'knowledge', 'base', 'if', 'you', 'have', 'done', 'the', 'clock', 'upgrade', 'and', 'havent', 'answered', 'this', 'poll', 'thanks', 'guy', 'kuo']]\n"
     ]
    }
   ],
   "source": [
    "## Tokenizing and clean up the text\n",
    "\n",
    "def sent_to_words(sentences):\n",
    "  for sentence in sentences:\n",
    "    yield(gensim.utils.simple_preprocess(str(sentence), deacc=True)) ## deacc=True removes punctuation\n",
    "\n",
    "data_words = list(sent_to_words(data))\n",
    "\n",
    "print(data_words[:2])"
   ]
  },
  {
   "cell_type": "code",
   "execution_count": 7,
   "metadata": {},
   "outputs": [
    {
     "name": "stdout",
     "output_type": "stream",
     "text": [
      "['from', 'wheres', 'my', 'thing', 'subject', 'what', 'car', 'is', 'this', 'nntp_posting_host', 'rac_wam_umd_edu', 'organization', 'university', 'of', 'maryland_college_park', 'lines', 'was', 'wondering', 'if', 'anyone', 'out', 'there', 'could', 'enlighten', 'me', 'on', 'this', 'car', 'saw', 'the', 'other', 'day', 'it', 'was', 'door', 'sports', 'car', 'looked', 'to', 'be', 'from', 'the', 'late', 'early', 'it', 'was', 'called', 'bricklin', 'the', 'doors', 'were', 'really', 'small', 'in', 'addition', 'the', 'front_bumper', 'was', 'separate', 'from', 'the', 'rest', 'of', 'the', 'body', 'this', 'is', 'all', 'know', 'if', 'anyone', 'can', 'tellme', 'model', 'name', 'engine', 'specs', 'years', 'of', 'production', 'where', 'this', 'car', 'is', 'made', 'history', 'or', 'whatever', 'info', 'you', 'have', 'on', 'this', 'funky', 'looking', 'car', 'please', 'mail', 'thanks', 'il', 'brought', 'to', 'you', 'by', 'your', 'neighborhood', 'lerxst']\n"
     ]
    }
   ],
   "source": [
    "# Build the bigram and trigram models\n",
    "bigram = gensim.models.Phrases(data_words, min_count=5, threshold=100)\n",
    "trigram = gensim.models.Phrases(bigram[data_words], threshold=100)\n",
    "\n",
    "# Faster way to get a sentence clubbbed as a trigram/bigram\n",
    "bigram_mod = gensim.models.phrases.Phraser(bigram)\n",
    "trigram_mod = gensim.models.phrases.Phraser(trigram)\n",
    "\n",
    "# See trigram example\n",
    "print(trigram_mod[bigram_mod[data_words[0]]])"
   ]
  },
  {
   "cell_type": "code",
   "execution_count": 8,
   "metadata": {},
   "outputs": [],
   "source": [
    "## Remove stopwords, make bigrams and lemmatize\n",
    "\n",
    "def remove_stopwords(texts):\n",
    "  return [[word for word in simple_preprocess(str(doc)) if word not in stop_words] for doc in texts]\n",
    "\n",
    "def make_bigrams(texts):\n",
    "  return [bigram_mod[doc] for doc in texts]\n",
    "\n",
    "def make_trigrams(texts):\n",
    "  return [trigram_mod[bigram_mod[doc]] for doc in texts]\n",
    "\n",
    "def lemmatization(texts, allowed_postags=['NOUN', 'ADJ', 'VERB', 'ADV']):\n",
    "  texts_out = []\n",
    "  for sent in texts:\n",
    "    doc = nlp(\" \".join(sent))\n",
    "    texts_out.append([token.lemma_ for token in doc if token.pos_ in allowed_postags])\n",
    "  return texts_out"
   ]
  },
  {
   "cell_type": "code",
   "execution_count": 9,
   "metadata": {},
   "outputs": [
    {
     "name": "stdout",
     "output_type": "stream",
     "text": [
      "[['where', 'thing', 'car', 'nntp_poste', 'host', 'park', 'line', 'wonder', 'could', 'enlighten', 'car', 'see', 'day', 'door', 'sport', 'car', 'look', 'late', 'early', 'call', 'door', 'really', 'small', 'addition', 'separate', 'rest', 'body', 'know', 'model', 'name', 'engine', 'spec', 'year', 'production', 'car', 'make', 'history', 'info', 'funky', 'look', 'car', 'mail', 'thank', 'bring', 'neighborhood', 'lerxst']]\n"
     ]
    }
   ],
   "source": [
    "# Remove Stop Words\n",
    "data_words_nostops = remove_stopwords(data_words)\n",
    "\n",
    "# Form Bigrams\n",
    "data_words_bigrams = make_bigrams(data_words_nostops)\n",
    "\n",
    "# Initialize spacy 'en' model, keeping only tagger component (for efficiency)\n",
    "# python3 -m spacy download en\n",
    "# nlp = spacy.load('en', disable=['parser', 'ner'])\n",
    "nlp = spacy.load('en_core_web_sm', disable=['parser', 'ner'])\n",
    "\n",
    "# Do lemmatization keeping only noun, adj, vb, adv\n",
    "data_lemmatized = lemmatization(data_words_bigrams, allowed_postags=['NOUN', 'ADJ', 'VERB', 'ADV'])\n",
    "\n",
    "print(data_lemmatized[:1])"
   ]
  },
  {
   "cell_type": "code",
   "execution_count": 10,
   "metadata": {},
   "outputs": [
    {
     "name": "stdout",
     "output_type": "stream",
     "text": [
      "[[(0, 1), (1, 1), (2, 1), (3, 1), (4, 5), (5, 1), (6, 1), (7, 2), (8, 1), (9, 1), (10, 1), (11, 1), (12, 1), (13, 1), (14, 1), (15, 1), (16, 1), (17, 1), (18, 1), (19, 2), (20, 1), (21, 1), (22, 1), (23, 1), (24, 1), (25, 1), (26, 1), (27, 1), (28, 1), (29, 1), (30, 1), (31, 1), (32, 1), (33, 1), (34, 1), (35, 1), (36, 1), (37, 1), (38, 1), (39, 1)]]\n"
     ]
    }
   ],
   "source": [
    "# Create Dictionary\n",
    "id2word = corpora.Dictionary(data_lemmatized)\n",
    "\n",
    "# Create Corpus\n",
    "texts = data_lemmatized\n",
    "\n",
    "# Term Document Frequency\n",
    "corpus = [id2word.doc2bow(text) for text in texts]\n",
    "\n",
    "# View\n",
    "print(corpus[:1])"
   ]
  },
  {
   "cell_type": "code",
   "execution_count": 11,
   "metadata": {},
   "outputs": [
    {
     "data": {
      "text/plain": [
       "[[('addition', 1),\n",
       "  ('body', 1),\n",
       "  ('bring', 1),\n",
       "  ('call', 1),\n",
       "  ('car', 5),\n",
       "  ('could', 1),\n",
       "  ('day', 1),\n",
       "  ('door', 2),\n",
       "  ('early', 1),\n",
       "  ('engine', 1),\n",
       "  ('enlighten', 1),\n",
       "  ('funky', 1),\n",
       "  ('history', 1),\n",
       "  ('host', 1),\n",
       "  ('info', 1),\n",
       "  ('know', 1),\n",
       "  ('late', 1),\n",
       "  ('lerxst', 1),\n",
       "  ('line', 1),\n",
       "  ('look', 2),\n",
       "  ('mail', 1),\n",
       "  ('make', 1),\n",
       "  ('model', 1),\n",
       "  ('name', 1),\n",
       "  ('neighborhood', 1),\n",
       "  ('nntp_poste', 1),\n",
       "  ('park', 1),\n",
       "  ('production', 1),\n",
       "  ('really', 1),\n",
       "  ('rest', 1),\n",
       "  ('see', 1),\n",
       "  ('separate', 1),\n",
       "  ('small', 1),\n",
       "  ('spec', 1),\n",
       "  ('sport', 1),\n",
       "  ('thank', 1),\n",
       "  ('thing', 1),\n",
       "  ('where', 1),\n",
       "  ('wonder', 1),\n",
       "  ('year', 1)]]"
      ]
     },
     "execution_count": 11,
     "metadata": {},
     "output_type": "execute_result"
    }
   ],
   "source": [
    "# Human readable format of corpus (term-frequency)\n",
    "[[(id2word[id], freq) for id, freq in cp] for cp in corpus[:1]]"
   ]
  },
  {
   "cell_type": "code",
   "execution_count": 12,
   "metadata": {},
   "outputs": [],
   "source": [
    "# Build LDA model\n",
    "lda_model = gensim.models.ldamodel.LdaModel(corpus=corpus,\n",
    "                                           id2word=id2word,\n",
    "                                           num_topics=15, \n",
    "                                           random_state=100,\n",
    "                                           update_every=1,\n",
    "                                           chunksize=100,\n",
    "                                           passes=10,\n",
    "                                           alpha='auto',\n",
    "                                           per_word_topics=True)"
   ]
  },
  {
   "cell_type": "code",
   "execution_count": 13,
   "metadata": {},
   "outputs": [
    {
     "name": "stdout",
     "output_type": "stream",
     "text": [
      "[(0,\n",
      "  '0.061*\"file\" + 0.060*\"program\" + 0.048*\"window\" + 0.025*\"entry\" + '\n",
      "  '0.024*\"image\" + 0.021*\"disk\" + 0.020*\"run\" + 0.020*\"screen\" + 0.019*\"set\" + '\n",
      "  '0.018*\"display\"'),\n",
      " (1,\n",
      "  '0.028*\"people\" + 0.024*\"say\" + 0.015*\"would\" + 0.014*\"think\" + '\n",
      "  '0.013*\"reason\" + 0.012*\"believe\" + 0.011*\"evidence\" + 0.011*\"know\" + '\n",
      "  '0.009*\"make\" + 0.009*\"may\"'),\n",
      " (2,\n",
      "  '0.100*\"key\" + 0.059*\"government\" + 0.058*\"public\" + 0.029*\"encryption\" + '\n",
      "  '0.028*\"church\" + 0.025*\"security\" + 0.024*\"protect\" + 0.024*\"private\" + '\n",
      "  '0.022*\"crime\" + 0.022*\"character\"'),\n",
      " (3,\n",
      "  '0.708*\"ax\" + 0.012*\"agency\" + 0.012*\"market\" + 0.010*\"upgrade\" + '\n",
      "  '0.010*\"gift\" + 0.010*\"cd\" + 0.009*\"sc\" + 0.009*\"hell\" + 0.005*\"own\" + '\n",
      "  '0.004*\"brother\"'),\n",
      " (4,\n",
      "  '0.108*\"line\" + 0.077*\"write\" + 0.046*\"article\" + 0.035*\"host\" + '\n",
      "  '0.033*\"nntp_poste\" + 0.031*\"organization\" + 0.026*\"be\" + 0.026*\"know\" + '\n",
      "  '0.023*\"would\" + 0.021*\"thank\"'),\n",
      " (5,\n",
      "  '0.084*\"com\" + 0.068*\"distribution\" + 0.059*\"picture\" + 0.058*\"office\" + '\n",
      "  '0.038*\"object\" + 0.025*\"frame\" + 0.023*\"unlikely\" + 0.022*\"corporation\" + '\n",
      "  '0.022*\"expansion\" + 0.020*\"confirm\"'),\n",
      " (6,\n",
      "  '0.036*\"system\" + 0.023*\"use\" + 0.018*\"include\" + 0.016*\"information\" + '\n",
      "  '0.014*\"card\" + 0.012*\"also\" + 0.012*\"send\" + 0.011*\"available\" + '\n",
      "  '0.011*\"list\" + 0.011*\"new\"'),\n",
      " (7,\n",
      "  '0.159*\"chip\" + 0.085*\"bit\" + 0.052*\"bus\" + 0.049*\"scsi\" + 0.048*\"direct\" + '\n",
      "  '0.033*\"ide\" + 0.022*\"reliable\" + 0.021*\"nntp_posting\" + 0.020*\"daughter\" + '\n",
      "  '0.016*\"compression\"'),\n",
      " (8,\n",
      "  '0.061*\"season\" + 0.051*\"monitor\" + 0.048*\"goal\" + 0.041*\"trade\" + '\n",
      "  '0.036*\"period\" + 0.030*\"pen\" + 0.026*\"specify\" + 0.024*\"benefit\" + '\n",
      "  '0.022*\"prefer\" + 0.020*\"hook\"'),\n",
      " (9,\n",
      "  '0.016*\"would\" + 0.015*\"make\" + 0.015*\"may\" + 0.014*\"time\" + 0.011*\"also\" + '\n",
      "  '0.010*\"much\" + 0.010*\"work\" + 0.009*\"well\" + 0.007*\"first\" + 0.007*\"way\"'),\n",
      " (10,\n",
      "  '0.049*\"go\" + 0.025*\"think\" + 0.024*\"get\" + 0.022*\"s\" + 0.021*\"be\" + '\n",
      "  '0.021*\"good\" + 0.020*\"year\" + 0.017*\"come\" + 0.015*\"team\" + 0.015*\"say\"'),\n",
      " (11,\n",
      "  '0.105*\"space\" + 0.030*\"orbit\" + 0.029*\"launch\" + 0.028*\"mission\" + '\n",
      "  '0.025*\"commercial\" + 0.022*\"earth\" + 0.022*\"satellite\" + 0.022*\"plane\" + '\n",
      "  '0.019*\"moon\" + 0.017*\"facility\"'),\n",
      " (12,\n",
      "  '0.134*\"gun\" + 0.056*\"fire\" + 0.044*\"police\" + 0.042*\"notice\" + '\n",
      "  '0.041*\"weapon\" + 0.040*\"shoot\" + 0.031*\"firearm\" + 0.029*\"boy\" + '\n",
      "  '0.028*\"cop\" + 0.028*\"rational\"'),\n",
      " (13,\n",
      "  '0.114*\"drive\" + 0.075*\"car\" + 0.035*\"fast\" + 0.034*\"rate\" + 0.032*\"speed\" + '\n",
      "  '0.031*\"model\" + 0.025*\"bike\" + 0.024*\"buy\" + 0.023*\"light\" + 0.023*\"slow\"'),\n",
      " (14,\n",
      "  '0.036*\"kill\" + 0.030*\"israeli\" + 0.028*\"war\" + 0.027*\"soldier\" + '\n",
      "  '0.026*\"lebanese\" + 0.025*\"attack\" + 0.024*\"village\" + 0.021*\"military\" + '\n",
      "  '0.020*\"death\" + 0.019*\"government\"')]\n"
     ]
    }
   ],
   "source": [
    "# Print the Keyword in the 10 topics\n",
    "pprint(lda_model.print_topics())\n",
    "doc_lda = lda_model[corpus]"
   ]
  },
  {
   "cell_type": "code",
   "execution_count": 14,
   "metadata": {},
   "outputs": [
    {
     "name": "stdout",
     "output_type": "stream",
     "text": [
      "\n",
      "Perplexity:  -11.277975111521005\n",
      "\n",
      "Coherence Score:  0.499899150378291\n"
     ]
    }
   ],
   "source": [
    "## Compute model perplexity and coherence score\n",
    "\n",
    "# Compute Perplexity\n",
    "print('\\nPerplexity: ', lda_model.log_perplexity(corpus))  # a measure of how good the model is. lower the better.\n",
    "\n",
    "# Compute Coherence Score\n",
    "coherence_model_lda = CoherenceModel(model=lda_model, texts=data_lemmatized, dictionary=id2word, coherence='c_v')\n",
    "coherence_lda = coherence_model_lda.get_coherence()\n",
    "print('\\nCoherence Score: ', coherence_lda)"
   ]
  },
  {
   "cell_type": "code",
   "execution_count": 15,
   "metadata": {},
   "outputs": [
    {
     "data": {
      "text/html": [
       "\n",
       "<link rel=\"stylesheet\" type=\"text/css\" href=\"https://cdn.rawgit.com/bmabey/pyLDAvis/files/ldavis.v1.0.0.css\">\n",
       "\n",
       "\n",
       "<div id=\"ldavis_el1080826200069015683323645320\"></div>\n",
       "<script type=\"text/javascript\">\n",
       "\n",
       "var ldavis_el1080826200069015683323645320_data = {\"mdsDat\": {\"x\": [0.30947513792860165, 0.3077620578628416, 0.2824712046364309, 0.24336307136802726, 0.15477569332389762, -0.11483386917591124, 0.006448074243725055, -0.0975512422852347, -0.09293462917056616, -0.07020108910575959, -0.16232573358825347, -0.18483238734428048, -0.186712191136659, -0.19359912768322668, -0.20130496987363236], \"y\": [0.05179743865478361, 0.09790295670325849, 0.18228371869487883, -0.06375635983021495, -0.3013975628832724, 0.009346829497153973, -0.25242801201773984, -0.052133053703178604, 0.06602936259268549, 0.1532511238712324, -0.008775397187742322, 0.03544857381650468, 0.04873024939325841, 0.004477700965686476, 0.029222431432705365], \"topics\": [1, 2, 3, 4, 5, 6, 7, 8, 9, 10, 11, 12, 13, 14, 15], \"cluster\": [1, 1, 1, 1, 1, 1, 1, 1, 1, 1, 1, 1, 1, 1, 1], \"Freq\": [23.909278869628906, 22.052406311035156, 12.228545188903809, 12.14352798461914, 11.311725616455078, 4.809526443481445, 3.7300426959991455, 2.1776351928710938, 2.1121606826782227, 1.7884165048599243, 1.0173054933547974, 0.8659385442733765, 0.7940159440040588, 0.5347718000411987, 0.5246993899345398]}, \"tinfo\": {\"Term\": [\"ax\", \"line\", \"write\", \"go\", \"article\", \"drive\", \"people\", \"host\", \"system\", \"nntp_poste\", \"key\", \"organization\", \"say\", \"be\", \"file\", \"think\", \"program\", \"get\", \"bit\", \"car\", \"know\", \"window\", \"use\", \"s\", \"government\", \"thank\", \"year\", \"gun\", \"space\", \"would\", \"talk\", \"power\", \"small\", \"patient\", \"increase\", \"suggest\", \"local\", \"study\", \"usually\", \"drug\", \"wire\", \"spend\", \"field\", \"risk\", \"publish\", \"condition\", \"serious\", \"shall\", \"replace\", \"short\", \"hour\", \"wing\", \"family\", \"press\", \"worth\", \"community\", \"ground\", \"reduce\", \"steal\", \"effect\", \"result\", \"plan\", \"level\", \"do\", \"less\", \"likely\", \"sometimes\", \"large\", \"cover\", \"cut\", \"area\", \"low\", \"much\", \"high\", \"report\", \"real\", \"time\", \"place\", \"may\", \"work\", \"make\", \"pay\", \"long\", \"end\", \"also\", \"case\", \"first\", \"change\", \"would\", \"well\", \"enough\", \"probably\", \"way\", \"course\", \"number\", \"problem\", \"take\", \"give\", \"thing\", \"year\", \"new\", \"good\", \"could\", \"use\", \"point\", \"believe\", \"evidence\", \"reason\", \"claim\", \"sense\", \"person\", \"life\", \"faith\", \"agree\", \"god\", \"explain\", \"accept\", \"love\", \"religion\", \"argument\", \"die\", \"prove\", \"matter\", \"speak\", \"discussion\", \"situation\", \"christian\", \"belief\", \"truth\", \"atheist\", \"human\", \"action\", \"story\", \"conclusion\", \"religious\", \"people\", \"word\", \"true\", \"live\", \"understand\", \"fact\", \"man\", \"world\", \"say\", \"state\", \"law\", \"exist\", \"mean\", \"child\", \"think\", \"right\", \"many\", \"would\", \"know\", \"can\", \"come\", \"thing\", \"may\", \"make\", \"even\", \"see\", \"write\", \"tell\", \"team\", \"game\", \"play\", \"win\", \"player\", \"hockey\", \"guy\", \"fan\", \"pick\", \"hit\", \"score\", \"division\", \"watch\", \"playoff\", \"average\", \"around\", \"room\", \"sit\", \"here\", \"pack\", \"originator\", \"past\", \"door\", \"fairly\", \"screw\", \"stat\", \"ice\", \"pitch\", \"yesterday\", \"cap\", \"throw\", \"go\", \"kid\", \"s\", \"lose\", \"there\", \"next\", \"home\", \"maybe\", \"last\", \"bad\", \"back\", \"year\", \"start\", \"get\", \"top\", \"think\", \"come\", \"good\", \"happen\", \"remember\", \"be\", \"run\", \"well\", \"see\", \"really\", \"take\", \"say\", \"time\", \"still\", \"let\", \"look\", \"know\", \"make\", \"host\", \"nntp_poste\", \"thank\", \"distribution_usa\", \"color\", \"solution\", \"internet\", \"appreciate\", \"soon\", \"keyword\", \"printer\", \"apple\", \"font\", \"multiple\", \"co\", \"line\", \"bug\", \"thinking\", \"routine\", \"widget\", \"greatly_appreciate\", \"modem\", \"brave\", \"curious\", \"careful\", \"hi\", \"origin\", \"fancy\", \"rumor\", \"responce\", \"reply\", \"engineering\", \"organization\", \"article\", \"write\", \"wonder\", \"advance\", \"update\", \"university\", \"email\", \"help\", \"post\", \"like\", \"net\", \"test\", \"be\", \"d\", \"try\", \"know\", \"want\", \"need\", \"hear\", \"look\", \"would\", \"find\", \"get\", \"have\", \"problem\", \"question\", \"read\", \"could\", \"buy\", \"work\", \"use\", \"can\", \"system\", \"information\", \"card\", \"technology\", \"sale\", \"news\", \"tape\", \"contain\", \"access\", \"package\", \"product\", \"input\", \"hardware\", \"request\", \"unit\", \"ca\", \"operate\", \"mount\", \"internal\", \"port\", \"mouse\", \"site\", \"clipper\", \"purchase\", \"tool\", \"obtain\", \"transfer\", \"pro\", \"board\", \"external\", \"network\", \"include\", \"available\", \"currently\", \"offer\", \"list\", \"software\", \"release\", \"datum\", \"address\", \"support\", \"send\", \"computer\", \"price\", \"source\", \"use\", \"standard\", \"provide\", \"mail\", \"sell\", \"receive\", \"new\", \"allow\", \"also\", \"type\", \"number\", \"follow\", \"need\", \"ax\", \"agency\", \"market\", \"upgrade\", \"gift\", \"cd\", \"sc\", \"hell\", \"own\", \"brother\", \"tire\", \"park\", \"belt\", \"monthly\", \"dare\", \"giant\", \"positively\", \"comprehensive\", \"alarm\", \"discount\", \"slight\", \"timing\", \"uunet\", \"tight\", \"bolt\", \"neat\", \"suspension\", \"stuck\", \"valve\", \"statute\", \"file\", \"window\", \"entry\", \"disk\", \"screen\", \"display\", \"graphic\", \"server\", \"format\", \"motif\", \"sun\", \"cpu\", \"client\", \"directory\", \"load\", \"session\", \"output\", \"compile\", \"controller\", \"ram\", \"register\", \"default\", \"configuration\", \"utility\", \"implementation\", \"stream\", \"pointer\", \"terminal\", \"enable\", \"extension\", \"program\", \"image\", \"library\", \"mode\", \"error\", \"application\", \"set\", \"run\", \"size\", \"convert\", \"memory\", \"version\", \"problem\", \"bit\", \"use\", \"change\", \"machine\", \"drive\", \"car\", \"rate\", \"speed\", \"model\", \"bike\", \"slow\", \"engine\", \"ride\", \"eat\", \"license\", \"recommend\", \"mile\", \"insurance\", \"gateway\", \"ticket\", \"oil\", \"clock\", \"auto\", \"red\", \"bank\", \"cylinder\", \"gear\", \"mph\", \"pop\", \"combination\", \"shop\", \"mix\", \"paint\", \"rear\", \"fast\", \"switch\", \"performance\", \"light\", \"road\", \"buy\", \"driver\", \"foot\", \"price\", \"owner\", \"front\", \"key\", \"public\", \"encryption\", \"church\", \"security\", \"private\", \"crime\", \"character\", \"normal\", \"encrypt\", \"secure\", \"authority\", \"criminal\", \"scripture\", \"excuse\", \"federal\", \"terrorism\", \"privacy\", \"trick\", \"restrict\", \"challenge\", \"prohibit\", \"left\", \"mercy\", \"depth\", \"corner\", \"regulation\", \"threat\", \"survive\", \"cryptography\", \"protect\", \"government\", \"block\", \"amount\", \"citizen\", \"message\", \"policy\", \"attack\", \"right\", \"law\", \"israeli\", \"war\", \"soldier\", \"lebanese\", \"village\", \"turkish\", \"greek\", \"withdraw\", \"occupy\", \"armenian\", \"turk\", \"civilian\", \"demand\", \"northern\", \"girl\", \"imaging\", \"inhabitant\", \"russian\", \"invasion\", \"arab\", \"troop\", \"reflect\", \"genocide\", \"disarm\", \"slaughter\", \"massacre\", \"tear\", \"occupation\", \"leadership\", \"suck\", \"military\", \"bomb\", \"attack\", \"kill\", \"murder\", \"death\", \"policy\", \"land\", \"force\", \"government\", \"jewish\", \"aim\", \"orbit\", \"launch\", \"mission\", \"commercial\", \"satellite\", \"plane\", \"moon\", \"facility\", \"mirror\", \"schedule\", \"shuttle\", \"mass\", \"factory\", \"conference\", \"highly\", \"role\", \"warrant\", \"lunar\", \"radiation\", \"unable\", \"distant\", \"solar\", \"planetary\", \"crew\", \"telescope\", \"camera\", \"vision\", \"payment\", \"motion\", \"frequently_asked\", \"space\", \"rocket\", \"earth\", \"surface\", \"project\", \"program\", \"search\", \"season\", \"monitor\", \"goal\", \"trade\", \"period\", \"pen\", \"specify\", \"benefit\", \"prefer\", \"hook\", \"battery\", \"finish\", \"task\", \"decent\", \"cross\", \"penalty\", \"penguin\", \"hopefully\", \"assist\", \"noise\", \"up\", \"amp\", \"leafs\", \"spacecraft\", \"conviction\", \"captain\", \"suitable\", \"anymore\", \"volt\", \"flyer\", \"vote\", \"gun\", \"police\", \"notice\", \"weapon\", \"firearm\", \"boy\", \"cop\", \"rational\", \"hole\", \"predict\", \"specification\", \"joke\", \"revolver\", \"trigger\", \"batf\", \"spell\", \"tip\", \"glass\", \"weeks_ago\", \"hammer\", \"fitting\", \"tank\", \"turning\", \"atf\", \"thunder\", \"fire\", \"cock\", \"shoot\", \"pistol\", \"confrontation\", \"arm\", \"carry\", \"knock\", \"pull\", \"gas\", \"building\", \"chip\", \"bus\", \"scsi\", \"direct\", \"ide\", \"reliable\", \"nntp_posting\", \"daughter\", \"compression\", \"electrical\", \"backup\", \"super\", \"maximum\", \"quadra\", \"sister\", \"synchronous\", \"birthday\", \"stall\", \"esdi\", \"dealing\", \"unique\", \"bit\", \"fasst\", \"device\", \"wide\", \"mode\", \"pc\", \"busmastere\", \"asynchronous\", \"vlb\", \"fast\", \"range\", \"twice\", \"com\", \"distribution\", \"picture\", \"office\", \"frame\", \"unlikely\", \"corporation\", \"expansion\", \"confirm\", \"probe\", \"expand\", \"investigation\", \"correction\", \"cult\", \"ratio\", \"generic\", \"construction\", \"scope\", \"compress\", \"stroke\", \"competition\", \"rotate\", \"peripheral\", \"roman\", \"licensing\", \"curve\", \"observatory\", \"incline\", \"vitamin\", \"conceivable\", \"object\"], \"Freq\": [39788.0, 15423.0, 12860.0, 7308.0, 7509.0, 2912.0, 7347.0, 4939.0, 4706.0, 4662.0, 2468.0, 4586.0, 8400.0, 7351.0, 2637.0, 7143.0, 2761.0, 6466.0, 1697.0, 1920.0, 7887.0, 2078.0, 5969.0, 3391.0, 1856.0, 2914.0, 4662.0, 1245.0, 1333.0, 12583.0, 1773.458251953125, 1658.7064208984375, 1218.618896484375, 976.0640258789062, 865.7247924804688, 842.8575439453125, 832.70849609375, 794.8882446289062, 779.8569946289062, 711.4337158203125, 703.5789794921875, 686.2951049804688, 651.5218505859375, 650.40087890625, 617.6337890625, 588.7119750976562, 578.0687866210938, 562.8284301757812, 561.7194213867188, 554.84033203125, 547.49267578125, 535.826171875, 530.2900390625, 524.4213256835938, 516.5485229492188, 516.4080810546875, 499.010498046875, 495.0562438964844, 489.460205078125, 809.6989135742188, 1086.4970703125, 596.7924194335938, 862.7745971679688, 1610.421875, 1478.7294921875, 764.9030151367188, 846.9517822265625, 1357.3173828125, 761.8041381835938, 806.734375, 1055.1968994140625, 1026.4637451171875, 2854.98095703125, 1694.28955078125, 1183.2716064453125, 1331.450439453125, 3957.01708984375, 1445.432861328125, 4152.6044921875, 2778.6845703125, 4206.6337890625, 1088.61865234375, 1618.3836669921875, 1543.2762451171875, 3080.427490234375, 1914.4599609375, 2091.54150390625, 1352.2733154296875, 4351.4375, 2456.205078125, 1241.392822265625, 1347.849609375, 2010.298583984375, 1358.914794921875, 1629.66064453125, 1845.2762451171875, 1894.3704833984375, 1773.1099853515625, 1756.82861328125, 1777.1597900390625, 1516.9759521484375, 1451.9395751953125, 1431.6787109375, 1402.451416015625, 1362.749755859375, 3203.13427734375, 2836.57080078125, 3324.471435546875, 1957.8443603515625, 1688.4288330078125, 1571.1138916015625, 1417.03857421875, 1281.4107666015625, 1272.033447265625, 1013.8118286132812, 999.1763305664062, 987.4447631835938, 977.5504760742188, 975.2449340820312, 959.81884765625, 954.8084106445312, 953.07763671875, 950.714111328125, 921.0239868164062, 878.30029296875, 875.9765625, 825.5864868164062, 821.9603271484375, 802.561279296875, 742.515869140625, 724.0174560546875, 713.633056640625, 674.9774780273438, 660.4014892578125, 625.4929809570312, 7196.90185546875, 1311.3861083984375, 1576.3330078125, 1545.4356689453125, 925.0040283203125, 2024.950927734375, 1882.0350341796875, 1359.564453125, 6263.32763671875, 2061.80224609375, 1597.58203125, 1539.365234375, 2021.7069091796875, 1240.2197265625, 3597.1357421875, 2161.490478515625, 2148.511962890625, 3967.578125, 2781.217041015625, 1754.3173828125, 1979.3280029296875, 1937.605224609375, 2205.930419921875, 2238.60205078125, 1761.200439453125, 1900.72705078125, 1899.108154296875, 1508.073486328125, 2189.476806640625, 1907.9749755859375, 1522.767822265625, 1157.9935302734375, 1121.802978515625, 742.5311889648438, 681.33203125, 645.6400756835938, 640.7542724609375, 635.7404174804688, 632.845703125, 573.5702514648438, 558.3673706054688, 418.0137939453125, 406.9087219238281, 362.0629577636719, 356.46124267578125, 356.0807189941406, 343.7978515625, 320.6998291015625, 302.41253662109375, 301.98565673828125, 283.36224365234375, 267.379150390625, 266.4884338378906, 255.42816162109375, 246.4077606201172, 222.2838592529297, 212.46409606933594, 212.3577117919922, 454.18511962890625, 6940.68212890625, 444.77935791015625, 3101.934814453125, 1172.7373046875, 401.0721130371094, 1264.9735107421875, 818.3162231445312, 1215.8411865234375, 1710.433837890625, 1581.4268798828125, 1742.6953125, 2842.14599609375, 1436.2265625, 3484.217041015625, 536.7930908203125, 3523.44921875, 2449.046630859375, 2975.164794921875, 1192.0289306640625, 913.5712890625, 2987.17578125, 1541.783447265625, 2060.498046875, 1913.268310546875, 1360.538330078125, 1659.0106201171875, 2136.1796875, 1796.064453125, 1211.5186767578125, 1086.460693359375, 1266.508544921875, 1327.9822998046875, 1300.0009765625, 4938.16064453125, 4661.7646484375, 2913.468994140625, 960.806884765625, 907.0394897460938, 817.8291015625, 812.2284545898438, 743.1825561523438, 693.725341796875, 467.404052734375, 366.7239074707031, 352.94085693359375, 277.44964599609375, 254.38902282714844, 198.85977172851562, 15327.91015625, 195.4558563232422, 193.37713623046875, 177.0662078857422, 175.70411682128906, 170.2373809814453, 160.4096221923828, 153.29835510253906, 148.96673583984375, 134.0934600830078, 117.6474609375, 109.86164855957031, 109.19207763671875, 105.42142486572266, 104.56121063232422, 2318.83740234375, 413.3638916015625, 4377.9697265625, 6552.28662109375, 10925.0986328125, 709.6740112304688, 762.4472045898438, 336.24163818359375, 524.6593627929688, 945.5534057617188, 1983.8721923828125, 1737.231201171875, 772.313720703125, 838.572265625, 792.9351196289062, 3672.642578125, 1536.9049072265625, 2140.509521484375, 3620.43994140625, 2312.589599609375, 2155.2177734375, 1207.793212890625, 1873.2684326171875, 3233.655517578125, 1633.9891357421875, 2115.1123046875, 1272.0550537109375, 1420.3118896484375, 1230.38720703125, 1108.8934326171875, 1317.7464599609375, 941.7200317382812, 1166.129150390625, 1058.755126953125, 996.870849609375, 4705.6455078125, 2130.476318359375, 1859.789306640625, 1236.6861572265625, 1102.2083740234375, 820.47998046875, 770.5068359375, 845.4026489257812, 711.144287109375, 695.6932373046875, 681.63671875, 673.9237670898438, 622.3862915039062, 545.2616577148438, 530.8253173828125, 505.7611389160156, 457.3578186035156, 457.09600830078125, 452.5494689941406, 445.703369140625, 441.5530700683594, 433.5511474609375, 429.1661071777344, 423.0251770019531, 419.63897705078125, 417.82476806640625, 417.4043273925781, 410.0699768066406, 408.92822265625, 390.0463562011719, 678.4666137695312, 2344.349609375, 1507.4814453125, 700.3530883789062, 883.31396484375, 1504.795166015625, 1348.684814453125, 553.8428344726562, 904.0008544921875, 1184.275146484375, 1420.7015380859375, 1570.5675048828125, 1247.89990234375, 1090.0595703125, 1249.66650390625, 3065.942138671875, 814.166015625, 1321.6883544921875, 1357.6170654296875, 979.1116333007812, 931.9215087890625, 1442.4232177734375, 973.0707397460938, 1646.38427734375, 883.6000366210938, 1012.5413818359375, 853.0682983398438, 862.92431640625, 39787.609375, 699.0469360351562, 692.3595581054688, 582.3687133789062, 561.0820922851562, 539.4125366210938, 513.2849731445312, 510.6025085449219, 298.7853698730469, 246.72967529296875, 238.7896728515625, 221.08656311035156, 210.05416870117188, 206.96939086914062, 200.22579956054688, 196.17649841308594, 195.44683837890625, 181.4952850341797, 171.171142578125, 167.77713012695312, 160.67361450195312, 159.03366088867188, 149.04965209960938, 145.88812255859375, 136.09591674804688, 116.03253936767578, 112.94660949707031, 107.01189422607422, 102.70938873291016, 101.00407409667969, 2636.564697265625, 2077.1318359375, 1103.671875, 898.9487915039062, 856.0213012695312, 790.9371948242188, 775.2662963867188, 692.1506958007812, 639.3566284179688, 528.13671875, 458.4146423339844, 451.9583740234375, 417.5033874511719, 341.5318603515625, 333.0289306640625, 318.3782958984375, 303.8169250488281, 280.4322204589844, 268.6773681640625, 244.9719696044922, 217.33961486816406, 214.49270629882812, 205.89927673339844, 198.64442443847656, 189.82696533203125, 185.93246459960938, 182.4484405517578, 161.44932556152344, 153.8471221923828, 146.1322479248047, 2624.2109375, 1051.9310302734375, 380.5675048828125, 517.4696655273438, 626.6397094726562, 648.5640258789062, 818.412109375, 880.2967529296875, 390.7259521484375, 278.27392578125, 427.4810485839844, 408.5773010253906, 522.5545043945312, 402.9917297363281, 441.625244140625, 347.2160339355469, 334.1998596191406, 2911.08642578125, 1919.66455078125, 854.3302612304688, 809.3103637695312, 790.8099365234375, 628.7239379882812, 584.5553588867188, 505.35107421875, 472.21728515625, 445.7455749511719, 426.6937255859375, 383.86993408203125, 313.7377624511719, 276.5556640625, 214.05128479003906, 209.1504669189453, 203.71388244628906, 192.75474548339844, 169.4419403076172, 164.5538330078125, 161.993896484375, 157.32179260253906, 148.57945251464844, 127.60423278808594, 121.22941589355469, 111.85081481933594, 110.30677795410156, 98.70379638671875, 93.04663848876953, 90.5074234008789, 891.248291015625, 352.82373046875, 389.0138854980469, 592.8367919921875, 337.3050842285156, 599.9020385742188, 415.31451416015625, 203.91954040527344, 306.6901550292969, 180.52952575683594, 172.90737915039062, 2467.3671875, 1420.755615234375, 714.6654663085938, 685.4583129882812, 624.5038452148438, 582.6947631835938, 538.6572875976562, 534.5757446289062, 462.3232727050781, 456.2413635253906, 426.970947265625, 403.8350524902344, 349.6176452636719, 287.2720031738281, 270.9898681640625, 247.29359436035156, 240.49864196777344, 190.76214599609375, 188.08529663085938, 178.43309020996094, 171.08248901367188, 154.92652893066406, 151.30264282226562, 146.0795440673828, 140.3066864013672, 136.54974365234375, 130.7919464111328, 129.0074005126953, 126.83637237548828, 126.63482666015625, 592.9024658203125, 1458.8868408203125, 392.3455505371094, 342.8876037597656, 312.8433532714844, 419.54315185546875, 182.89968872070312, 188.7109832763672, 204.78245544433594, 185.68226623535156, 625.6653442382812, 594.514892578125, 558.05126953125, 534.8103637695312, 495.7539978027344, 347.2138366699219, 318.1352844238281, 311.254150390625, 308.474365234375, 279.107666015625, 278.80322265625, 243.728271484375, 229.09335327148438, 209.346435546875, 192.66932678222656, 190.20846557617188, 172.46469116210938, 163.27464294433594, 158.238037109375, 156.55467224121094, 148.87596130371094, 128.75006103515625, 119.08113861083984, 111.3864517211914, 90.5796127319336, 88.09154510498047, 87.10820770263672, 84.98579406738281, 83.290771484375, 78.08033752441406, 439.4267883300781, 272.7344055175781, 523.1747436523438, 745.937255859375, 346.2648620605469, 423.3504943847656, 221.03167724609375, 238.2523651123047, 295.721923828125, 396.442626953125, 219.72828674316406, 158.85910034179688, 352.72845458984375, 348.6980895996094, 328.45843505859375, 300.5033874511719, 257.7835693359375, 256.9064025878906, 227.58546447753906, 204.18971252441406, 201.84202575683594, 192.16787719726562, 171.97914123535156, 164.83975219726562, 157.82020568847656, 149.8750762939453, 149.56761169433594, 147.2871551513672, 141.7340850830078, 130.7899932861328, 125.01070404052734, 105.55236053466797, 100.9875259399414, 97.61437225341797, 97.54729461669922, 95.4061050415039, 91.13496398925781, 88.78583526611328, 81.97208404541016, 80.7194595336914, 74.11083221435547, 71.47109985351562, 1251.311279296875, 174.78050231933594, 258.3196716308594, 123.26675415039062, 129.65823364257812, 136.04420471191406, 101.84839630126953, 615.0035400390625, 513.7149047851562, 488.72540283203125, 418.5387878417969, 362.3904113769531, 307.498046875, 267.66424560546875, 240.19454956054688, 223.98646545410156, 203.5938720703125, 195.926025390625, 181.42800903320312, 180.46824645996094, 179.57395935058594, 168.45655822753906, 140.25221252441406, 140.0053253173828, 127.9372329711914, 125.8466567993164, 125.22920227050781, 107.26509094238281, 105.43733978271484, 101.13407897949219, 101.05464172363281, 99.33641052246094, 97.03236389160156, 93.08623504638672, 90.98793029785156, 86.93214416503906, 79.52352142333984, 111.7962417602539, 1243.8214111328125, 404.1248474121094, 392.61700439453125, 382.5657653808594, 285.8815002441406, 273.0320129394531, 259.7580261230469, 256.7559509277344, 246.4393310546875, 169.26817321777344, 136.35317993164062, 126.03068542480469, 76.7227554321289, 75.36862182617188, 73.13324737548828, 70.17047119140625, 61.804935455322266, 44.95546340942383, 41.594242095947266, 34.96234130859375, 33.47028732299805, 161.4147186279297, 24.973146438598633, 22.8433837890625, 15.878861427307129, 523.4756469726562, 9.24130916595459, 368.84149169921875, 6.506102085113525, 6.101949214935303, 172.0216064453125, 178.0983123779297, 36.04001998901367, 42.337799072265625, 32.467681884765625, 25.90580940246582, 993.7522583007812, 327.65850830078125, 305.68951416015625, 299.4737548828125, 207.27330017089844, 137.71543884277344, 131.48309326171875, 123.32069396972656, 100.13494110107422, 98.43397521972656, 92.1727294921875, 82.55144500732422, 53.73505783081055, 51.711936950683594, 38.347991943359375, 23.76466178894043, 10.359821319580078, 9.826977729797363, 5.732653617858887, 5.593880653381348, 24.489927291870117, 531.2166748046875, 0.5490526556968689, 81.63624572753906, 28.825151443481445, 54.925865173339844, 36.70625305175781, 0.062498100101947784, 0.061159100383520126, 0.06110230088233948, 18.68155288696289, 3.161491632461548, 0.7715403437614441, 511.9615783691406, 415.0248718261719, 359.65728759765625, 358.4283142089844, 152.3795623779297, 143.2244873046875, 134.53836059570312, 133.77294921875, 122.11563110351562, 113.21809387207031, 101.79772186279297, 94.73960876464844, 82.41593170166016, 67.03301239013672, 55.4541130065918, 54.85717010498047, 54.22770690917969, 50.5218505859375, 49.82642364501953, 47.36451721191406, 46.756683349609375, 46.00658416748047, 43.068660736083984, 36.27420425415039, 26.339054107666016, 25.859743118286133, 25.45829200744629, 19.855602264404297, 13.964377403259277, 13.103652954101562, 234.54283142089844], \"Total\": [39788.0, 15423.0, 12860.0, 7308.0, 7509.0, 2912.0, 7347.0, 4939.0, 4706.0, 4662.0, 2468.0, 4586.0, 8400.0, 7351.0, 2637.0, 7143.0, 2761.0, 6466.0, 1697.0, 1920.0, 7887.0, 2078.0, 5969.0, 3391.0, 1856.0, 2914.0, 4662.0, 1245.0, 1333.0, 12583.0, 1774.6856689453125, 1659.933837890625, 1219.8463134765625, 977.2913208007812, 866.9520874023438, 844.0848388671875, 833.935791015625, 796.1155395507812, 781.0842895507812, 712.6610107421875, 704.8062744140625, 687.5223999023438, 652.7491455078125, 651.628173828125, 618.861083984375, 589.9392700195312, 579.2960815429688, 564.0557250976562, 562.9467163085938, 556.067626953125, 548.719970703125, 537.053466796875, 531.517333984375, 525.6486206054688, 517.7758178710938, 517.6353759765625, 500.23779296875, 496.2835388183594, 490.6875, 811.7755737304688, 1091.7108154296875, 598.4468994140625, 869.4644775390625, 1635.4364013671875, 1538.3067626953125, 776.2095336914062, 869.1214599609375, 1441.4493408203125, 781.8885498046875, 837.736572265625, 1151.5362548828125, 1116.98828125, 3621.571044921875, 2053.43212890625, 1369.1973876953125, 1593.259521484375, 6160.4423828125, 1772.8656005859375, 7174.78369140625, 4385.43310546875, 7765.046875, 1268.992431640625, 2196.968505859375, 2092.524658203125, 5761.205078125, 2917.139404296875, 3412.107421875, 1763.1451416015625, 12583.9306640625, 5097.70361328125, 1631.4736328125, 1903.460693359375, 4007.32861328125, 1953.2376708984375, 2903.0478515625, 3789.177734375, 4514.85595703125, 3983.9384765625, 4339.7236328125, 4662.6806640625, 3208.50390625, 5987.328125, 4905.15966796875, 5969.7109375, 3571.43701171875, 3204.368408203125, 2837.804931640625, 3326.3115234375, 1959.07861328125, 1689.6630859375, 1572.34814453125, 1418.2728271484375, 1282.64501953125, 1273.2677001953125, 1015.0459594726562, 1000.4104614257812, 988.6788940429688, 978.7846069335938, 976.4790649414062, 961.052978515625, 956.0425415039062, 954.311767578125, 951.9482421875, 922.2581176757812, 879.534423828125, 877.210693359375, 826.8206176757812, 823.1944580078125, 803.79541015625, 743.75, 725.2515869140625, 714.8671875, 676.2116088867188, 661.6356201171875, 626.7271118164062, 7347.6884765625, 1318.06884765625, 1605.3643798828125, 1577.6126708984375, 932.8848876953125, 2111.966796875, 2008.74951171875, 1430.3853759765625, 8400.6484375, 2369.13818359375, 1784.415771484375, 1714.0252685546875, 2560.403076171875, 1399.036376953125, 7143.087890625, 3408.754638671875, 3835.602783203125, 12583.9306640625, 7887.4765625, 3428.77392578125, 4496.796875, 4339.7236328125, 7174.78369140625, 7765.046875, 3901.7099609375, 5562.5029296875, 12860.69921875, 3125.580078125, 2190.70458984375, 1909.2027587890625, 1523.99560546875, 1159.2213134765625, 1123.03076171875, 743.7588500976562, 682.5596923828125, 646.8677368164062, 641.98193359375, 636.9680786132812, 634.0733642578125, 574.7979125976562, 559.5950317382812, 419.2414245605469, 408.1363525390625, 363.29058837890625, 357.6888732910156, 357.308349609375, 345.0254821777344, 321.9274597167969, 303.6401672363281, 303.2132873535156, 284.5898742675781, 268.6067810058594, 267.716064453125, 256.65582275390625, 247.63540649414062, 223.51150512695312, 213.69174194335938, 213.58535766601562, 459.58050537109375, 7308.21923828125, 450.87481689453125, 3391.285888671875, 1247.742431640625, 412.5242004394531, 1439.7545166015625, 906.8743896484375, 1410.89892578125, 2210.494140625, 2078.959716796875, 2488.173095703125, 4662.6806640625, 2064.908203125, 6466.38427734375, 598.9800415039062, 7143.087890625, 4496.796875, 5987.328125, 1766.8336181640625, 1236.0750732421875, 7351.7001953125, 2890.613525390625, 5097.70361328125, 5562.5029296875, 2902.641357421875, 4514.85595703125, 8400.6484375, 6160.4423828125, 2596.9619140625, 2022.1134033203125, 3870.05517578125, 7887.4765625, 7765.046875, 4939.3916015625, 4662.99560546875, 2914.7001953125, 962.0380859375, 908.2706909179688, 819.060302734375, 813.4596557617188, 744.4137573242188, 694.95654296875, 468.6352233886719, 367.955078125, 354.1720275878906, 278.6808166503906, 255.62020874023438, 200.09095764160156, 15423.017578125, 196.68704223632812, 194.6083221435547, 178.29739379882812, 176.935302734375, 171.46856689453125, 161.64080810546875, 154.529541015625, 150.1979217529297, 135.32464599609375, 118.87862396240234, 111.09282684326172, 110.4232406616211, 106.65260314941406, 105.79238891601562, 2405.076171875, 421.8216857910156, 4586.16552734375, 7509.498046875, 12860.69921875, 759.8681640625, 841.571044921875, 358.3474426269531, 592.8952026367188, 1135.9544677734375, 2625.1640625, 2381.970458984375, 954.3303833007812, 1057.6641845703125, 1013.5001220703125, 7351.7001953125, 2493.568359375, 3899.3173828125, 7887.4765625, 4344.56982421875, 4257.34912109375, 1891.6141357421875, 3870.05517578125, 12583.9306640625, 3749.27001953125, 6466.38427734375, 2745.45751953125, 3789.177734375, 2999.583251953125, 2365.66455078125, 4905.15966796875, 1542.7705078125, 4385.43310546875, 5969.7109375, 3428.77392578125, 4706.8681640625, 2131.699462890625, 1861.0125732421875, 1237.9095458984375, 1103.431640625, 821.7030639648438, 771.7299194335938, 846.7720336914062, 712.3673706054688, 696.9163208007812, 682.8598022460938, 675.1468505859375, 623.609375, 546.4847412109375, 532.0484008789062, 506.9842834472656, 458.5809631347656, 458.31915283203125, 453.7726135253906, 446.926513671875, 442.7762145996094, 434.7742919921875, 430.3892517089844, 424.2483215332031, 420.86212158203125, 419.04791259765625, 418.6274719238281, 411.2931213378906, 410.1513671875, 391.2695007324219, 683.7333374023438, 2392.845703125, 1542.864013671875, 710.1113891601562, 903.3637084960938, 1583.4608154296875, 1437.7191162109375, 566.4204711914062, 981.452392578125, 1375.2030029296875, 1791.5572509765625, 2091.0654296875, 1621.4237060546875, 1397.8902587890625, 1736.6573486328125, 5969.7109375, 968.3673095703125, 1924.7139892578125, 2263.336669921875, 1316.9805908203125, 1272.2623291015625, 3208.50390625, 1520.375732421875, 5761.205078125, 1299.2144775390625, 2903.0478515625, 2267.27685546875, 4257.34912109375, 39788.75390625, 700.1970825195312, 693.5097045898438, 583.5188598632812, 562.2322387695312, 540.5626831054688, 514.4351196289062, 511.7527160644531, 299.9355773925781, 247.87985229492188, 239.93984985351562, 222.2367401123047, 211.20436096191406, 208.1195831298828, 201.37600708007812, 197.32667541503906, 196.59718322753906, 182.64547729492188, 172.32131958007812, 168.92730712890625, 161.82382202148438, 160.18386840820312, 150.19985961914062, 147.03829956054688, 137.24609375, 117.18273162841797, 114.0968017578125, 108.16207122802734, 103.85955810546875, 102.15425872802734, 2637.78173828125, 2078.348876953125, 1104.888916015625, 900.165771484375, 857.23828125, 792.1541748046875, 776.4832763671875, 693.36767578125, 640.5736083984375, 529.3536987304688, 459.6316833496094, 453.1754150390625, 418.7204284667969, 342.7489013671875, 334.2459716796875, 319.5953369140625, 305.0339660644531, 281.6492614746094, 269.8944091796875, 246.18899536132812, 218.556640625, 215.70973205566406, 207.11630249023438, 199.8614501953125, 191.0439910888672, 187.14950561523438, 183.66546630859375, 162.66635131835938, 155.06414794921875, 147.34927368164062, 2761.397216796875, 1098.2197265625, 394.5193176269531, 573.552978515625, 821.8582153320312, 935.2372436523438, 1974.8123779296875, 2890.613525390625, 694.69287109375, 365.0263977050781, 977.3069458007812, 973.8732299804688, 3789.177734375, 1697.7957763671875, 5969.7109375, 1763.1451416015625, 1282.995849609375, 2912.323974609375, 1920.902099609375, 855.5678100585938, 810.5479125976562, 792.0474853515625, 629.9614868164062, 585.7929077148438, 506.588623046875, 473.454833984375, 446.9831237792969, 427.9312744140625, 385.10748291015625, 314.9753112792969, 277.793212890625, 215.28884887695312, 210.38803100585938, 204.95144653320312, 193.9923095703125, 170.67950439453125, 165.79139709472656, 163.23146057128906, 158.55935668945312, 149.8170166015625, 128.841796875, 122.46695709228516, 113.08836364746094, 111.54431915283203, 99.94133758544922, 94.28418731689453, 91.74496459960938, 911.10791015625, 388.69091796875, 451.314453125, 761.8483276367188, 422.651123046875, 1542.7705078125, 1317.181396484375, 324.0167541503906, 1397.8902587890625, 373.28961181640625, 377.90576171875, 2468.604736328125, 1421.9931640625, 715.9030151367188, 686.6958618164062, 625.7413940429688, 583.9323120117188, 539.8948364257812, 535.8132934570312, 463.5607604980469, 457.4788513183594, 428.20843505859375, 405.0725402832031, 350.8551330566406, 288.5094909667969, 272.22735595703125, 248.53109741210938, 241.73617553710938, 191.99964904785156, 189.32281494140625, 179.67059326171875, 172.3199920654297, 156.16403198242188, 152.54014587402344, 147.31704711914062, 141.544189453125, 137.78724670410156, 132.02944946289062, 130.24490356445312, 128.07386779785156, 127.872314453125, 643.8649291992188, 1856.48828125, 518.8431396484375, 481.6393127441406, 486.6103210449219, 1707.733154296875, 405.0901184082031, 808.4060668945312, 3408.754638671875, 1784.415771484375, 626.9069213867188, 595.7564697265625, 559.2928466796875, 536.0519409179688, 496.99554443359375, 348.45538330078125, 319.3768310546875, 312.4956970214844, 309.7159118652344, 280.3492126464844, 280.0447692871094, 244.96983337402344, 230.3349151611328, 210.58799743652344, 193.910888671875, 191.4500274658203, 173.7062530517578, 164.51620483398438, 159.47959899902344, 157.79623413085938, 150.11752319335938, 129.9916229248047, 120.32267761230469, 112.62799072265625, 91.82115936279297, 89.33308410644531, 88.34976196289062, 86.22733306884766, 84.5323257446289, 79.32188415527344, 460.1080017089844, 333.35693359375, 808.4060668945312, 1265.9832763671875, 521.2673950195312, 1061.90966796875, 405.0901184082031, 467.13189697265625, 921.1246337890625, 1856.48828125, 510.3593444824219, 233.52040100097656, 353.9737854003906, 349.94342041015625, 329.7037658691406, 301.74871826171875, 259.0289001464844, 258.1517333984375, 228.83079528808594, 205.43504333496094, 203.0873565673828, 193.4132080078125, 173.22447204589844, 166.0850830078125, 159.0655517578125, 151.1204071044922, 150.8129425048828, 148.53248596191406, 142.9794158935547, 132.0353240966797, 126.25602722167969, 106.79769134521484, 102.23286437988281, 98.85968780517578, 98.79261016845703, 96.65142822265625, 92.38028717041016, 90.0311508178711, 83.2174072265625, 81.96478271484375, 75.35615539550781, 72.71642303466797, 1333.775146484375, 188.9409942626953, 656.4644775390625, 279.2016906738281, 416.95660400390625, 2761.397216796875, 341.6354675292969, 616.2485961914062, 514.9599609375, 489.9704284667969, 419.7838134765625, 363.63543701171875, 308.7430725097656, 268.9092712402344, 241.4395751953125, 225.2314910888672, 204.83889770507812, 197.17103576660156, 182.67303466796875, 181.71327209472656, 180.81898498535156, 169.7015838623047, 141.49722290039062, 141.25033569335938, 129.1822509765625, 127.0916748046875, 126.47421264648438, 108.51010131835938, 106.6823501586914, 102.37908935546875, 102.29965209960938, 100.5814208984375, 98.27737426757812, 94.33124542236328, 92.23294830322266, 88.17715454101562, 80.7685317993164, 325.8619689941406, 1245.06884765625, 405.3722229003906, 393.8643798828125, 383.8131408691406, 287.1288757324219, 274.2793884277344, 261.0054016113281, 258.0033264160156, 247.68670654296875, 170.5155487060547, 137.60057067871094, 127.27806854248047, 77.97013092041016, 76.61599731445312, 74.38062286376953, 71.41785430908203, 63.05232238769531, 46.20284652709961, 42.84162521362305, 36.20972442626953, 34.71767807006836, 168.10330200195312, 26.220537185668945, 24.09076690673828, 17.126245498657227, 578.4603881835938, 10.488693237304688, 419.536376953125, 7.753483772277832, 7.349332332611084, 277.15057373046875, 722.987060546875, 92.77638244628906, 400.4109802246094, 175.73220825195312, 304.7635498046875, 995.0130615234375, 328.9193115234375, 306.9503173828125, 300.73455810546875, 208.5341033935547, 138.97625732421875, 132.743896484375, 124.58149719238281, 101.39574432373047, 99.69477844238281, 93.43353271484375, 83.81224822998047, 54.99586486816406, 52.97274398803711, 39.60879898071289, 25.02546501159668, 11.620626449584961, 11.08778190612793, 6.993458271026611, 6.8546881675720215, 75.4943618774414, 1697.7957763671875, 1.8098562955856323, 746.6656494140625, 291.8828125, 573.552978515625, 527.7418823242188, 1.3299742937088013, 1.322569727897644, 1.326532006263733, 911.10791015625, 289.1773376464844, 146.18896484375, 513.2199096679688, 416.2831726074219, 360.91558837890625, 359.6866149902344, 153.6378631591797, 144.4827880859375, 135.79666137695312, 135.03125, 123.37393188476562, 114.47639465332031, 103.05602264404297, 95.99790954589844, 83.67423248291016, 68.29131317138672, 56.7124137878418, 56.115474700927734, 55.48600769042969, 51.7801513671875, 51.08472442626953, 48.62282180786133, 48.01498794555664, 47.264888763427734, 44.32697296142578, 37.53250503540039, 27.59735679626465, 27.1180477142334, 26.71659278869629, 21.113937377929688, 15.222679138183594, 14.361958503723145, 376.77197265625], \"Category\": [\"Default\", \"Default\", \"Default\", \"Default\", \"Default\", \"Default\", \"Default\", \"Default\", \"Default\", \"Default\", \"Default\", \"Default\", \"Default\", \"Default\", \"Default\", \"Default\", \"Default\", \"Default\", \"Default\", \"Default\", \"Default\", \"Default\", \"Default\", \"Default\", \"Default\", \"Default\", \"Default\", \"Default\", \"Default\", \"Default\", \"Topic1\", \"Topic1\", \"Topic1\", \"Topic1\", \"Topic1\", \"Topic1\", \"Topic1\", \"Topic1\", \"Topic1\", \"Topic1\", \"Topic1\", \"Topic1\", \"Topic1\", \"Topic1\", \"Topic1\", \"Topic1\", \"Topic1\", \"Topic1\", \"Topic1\", \"Topic1\", \"Topic1\", \"Topic1\", \"Topic1\", \"Topic1\", \"Topic1\", \"Topic1\", \"Topic1\", \"Topic1\", \"Topic1\", \"Topic1\", \"Topic1\", \"Topic1\", \"Topic1\", \"Topic1\", \"Topic1\", \"Topic1\", \"Topic1\", \"Topic1\", \"Topic1\", \"Topic1\", \"Topic1\", \"Topic1\", \"Topic1\", \"Topic1\", \"Topic1\", \"Topic1\", \"Topic1\", \"Topic1\", \"Topic1\", \"Topic1\", \"Topic1\", \"Topic1\", \"Topic1\", \"Topic1\", \"Topic1\", \"Topic1\", \"Topic1\", \"Topic1\", \"Topic1\", \"Topic1\", \"Topic1\", \"Topic1\", \"Topic1\", \"Topic1\", \"Topic1\", \"Topic1\", \"Topic1\", \"Topic1\", \"Topic1\", \"Topic1\", \"Topic1\", \"Topic1\", \"Topic1\", \"Topic1\", \"Topic1\", \"Topic2\", \"Topic2\", \"Topic2\", \"Topic2\", \"Topic2\", \"Topic2\", \"Topic2\", \"Topic2\", \"Topic2\", \"Topic2\", \"Topic2\", \"Topic2\", \"Topic2\", \"Topic2\", \"Topic2\", \"Topic2\", \"Topic2\", \"Topic2\", \"Topic2\", \"Topic2\", \"Topic2\", \"Topic2\", \"Topic2\", \"Topic2\", \"Topic2\", \"Topic2\", \"Topic2\", \"Topic2\", \"Topic2\", \"Topic2\", \"Topic2\", \"Topic2\", \"Topic2\", \"Topic2\", \"Topic2\", \"Topic2\", \"Topic2\", \"Topic2\", \"Topic2\", \"Topic2\", \"Topic2\", \"Topic2\", \"Topic2\", \"Topic2\", \"Topic2\", \"Topic2\", \"Topic2\", \"Topic2\", \"Topic2\", \"Topic2\", \"Topic2\", \"Topic2\", \"Topic2\", \"Topic2\", \"Topic2\", \"Topic2\", \"Topic2\", \"Topic2\", \"Topic3\", \"Topic3\", \"Topic3\", \"Topic3\", \"Topic3\", \"Topic3\", \"Topic3\", \"Topic3\", \"Topic3\", \"Topic3\", \"Topic3\", \"Topic3\", \"Topic3\", \"Topic3\", \"Topic3\", \"Topic3\", \"Topic3\", \"Topic3\", \"Topic3\", \"Topic3\", \"Topic3\", \"Topic3\", \"Topic3\", \"Topic3\", \"Topic3\", \"Topic3\", \"Topic3\", \"Topic3\", \"Topic3\", \"Topic3\", \"Topic3\", \"Topic3\", \"Topic3\", \"Topic3\", \"Topic3\", \"Topic3\", \"Topic3\", \"Topic3\", \"Topic3\", \"Topic3\", \"Topic3\", \"Topic3\", \"Topic3\", \"Topic3\", \"Topic3\", \"Topic3\", \"Topic3\", \"Topic3\", \"Topic3\", \"Topic3\", \"Topic3\", \"Topic3\", \"Topic3\", \"Topic3\", \"Topic3\", \"Topic3\", \"Topic3\", \"Topic3\", \"Topic3\", \"Topic3\", \"Topic3\", \"Topic3\", \"Topic3\", \"Topic3\", \"Topic4\", \"Topic4\", \"Topic4\", \"Topic4\", \"Topic4\", \"Topic4\", \"Topic4\", \"Topic4\", \"Topic4\", \"Topic4\", \"Topic4\", \"Topic4\", \"Topic4\", \"Topic4\", \"Topic4\", \"Topic4\", \"Topic4\", \"Topic4\", \"Topic4\", \"Topic4\", \"Topic4\", \"Topic4\", \"Topic4\", \"Topic4\", \"Topic4\", \"Topic4\", \"Topic4\", \"Topic4\", \"Topic4\", \"Topic4\", \"Topic4\", \"Topic4\", \"Topic4\", \"Topic4\", \"Topic4\", \"Topic4\", \"Topic4\", \"Topic4\", \"Topic4\", \"Topic4\", \"Topic4\", \"Topic4\", \"Topic4\", \"Topic4\", \"Topic4\", \"Topic4\", \"Topic4\", \"Topic4\", \"Topic4\", \"Topic4\", \"Topic4\", \"Topic4\", \"Topic4\", \"Topic4\", \"Topic4\", \"Topic4\", \"Topic4\", \"Topic4\", \"Topic4\", \"Topic4\", \"Topic4\", \"Topic4\", \"Topic4\", \"Topic4\", \"Topic4\", \"Topic5\", \"Topic5\", \"Topic5\", \"Topic5\", \"Topic5\", \"Topic5\", \"Topic5\", \"Topic5\", \"Topic5\", \"Topic5\", \"Topic5\", \"Topic5\", \"Topic5\", \"Topic5\", \"Topic5\", \"Topic5\", \"Topic5\", \"Topic5\", \"Topic5\", \"Topic5\", \"Topic5\", \"Topic5\", \"Topic5\", \"Topic5\", \"Topic5\", \"Topic5\", \"Topic5\", \"Topic5\", \"Topic5\", \"Topic5\", \"Topic5\", \"Topic5\", \"Topic5\", \"Topic5\", \"Topic5\", \"Topic5\", \"Topic5\", \"Topic5\", \"Topic5\", \"Topic5\", \"Topic5\", \"Topic5\", \"Topic5\", \"Topic5\", \"Topic5\", \"Topic5\", \"Topic5\", \"Topic5\", \"Topic5\", \"Topic5\", \"Topic5\", \"Topic5\", \"Topic5\", \"Topic5\", \"Topic5\", \"Topic5\", \"Topic5\", \"Topic5\", \"Topic6\", \"Topic6\", \"Topic6\", \"Topic6\", \"Topic6\", \"Topic6\", \"Topic6\", \"Topic6\", \"Topic6\", \"Topic6\", \"Topic6\", \"Topic6\", \"Topic6\", \"Topic6\", \"Topic6\", \"Topic6\", \"Topic6\", \"Topic6\", \"Topic6\", \"Topic6\", \"Topic6\", \"Topic6\", \"Topic6\", \"Topic6\", \"Topic6\", \"Topic6\", \"Topic6\", \"Topic6\", \"Topic6\", \"Topic6\", \"Topic7\", \"Topic7\", \"Topic7\", \"Topic7\", \"Topic7\", \"Topic7\", \"Topic7\", \"Topic7\", \"Topic7\", \"Topic7\", \"Topic7\", \"Topic7\", \"Topic7\", \"Topic7\", \"Topic7\", \"Topic7\", \"Topic7\", \"Topic7\", \"Topic7\", \"Topic7\", \"Topic7\", \"Topic7\", \"Topic7\", \"Topic7\", \"Topic7\", \"Topic7\", \"Topic7\", \"Topic7\", \"Topic7\", \"Topic7\", \"Topic7\", \"Topic7\", \"Topic7\", \"Topic7\", \"Topic7\", \"Topic7\", \"Topic7\", \"Topic7\", \"Topic7\", \"Topic7\", \"Topic7\", \"Topic7\", \"Topic7\", \"Topic7\", \"Topic7\", \"Topic7\", \"Topic7\", \"Topic8\", \"Topic8\", \"Topic8\", \"Topic8\", \"Topic8\", \"Topic8\", \"Topic8\", \"Topic8\", \"Topic8\", \"Topic8\", \"Topic8\", \"Topic8\", \"Topic8\", \"Topic8\", \"Topic8\", \"Topic8\", \"Topic8\", \"Topic8\", \"Topic8\", \"Topic8\", \"Topic8\", \"Topic8\", \"Topic8\", \"Topic8\", \"Topic8\", \"Topic8\", \"Topic8\", \"Topic8\", \"Topic8\", \"Topic8\", \"Topic8\", \"Topic8\", \"Topic8\", \"Topic8\", \"Topic8\", \"Topic8\", \"Topic8\", \"Topic8\", \"Topic8\", \"Topic8\", \"Topic8\", \"Topic9\", \"Topic9\", \"Topic9\", \"Topic9\", \"Topic9\", \"Topic9\", \"Topic9\", \"Topic9\", \"Topic9\", \"Topic9\", \"Topic9\", \"Topic9\", \"Topic9\", \"Topic9\", \"Topic9\", \"Topic9\", \"Topic9\", \"Topic9\", \"Topic9\", \"Topic9\", \"Topic9\", \"Topic9\", \"Topic9\", \"Topic9\", \"Topic9\", \"Topic9\", \"Topic9\", \"Topic9\", \"Topic9\", \"Topic9\", \"Topic9\", \"Topic9\", \"Topic9\", \"Topic9\", \"Topic9\", \"Topic9\", \"Topic9\", \"Topic9\", \"Topic9\", \"Topic9\", \"Topic10\", \"Topic10\", \"Topic10\", \"Topic10\", \"Topic10\", \"Topic10\", \"Topic10\", \"Topic10\", \"Topic10\", \"Topic10\", \"Topic10\", \"Topic10\", \"Topic10\", \"Topic10\", \"Topic10\", \"Topic10\", \"Topic10\", \"Topic10\", \"Topic10\", \"Topic10\", \"Topic10\", \"Topic10\", \"Topic10\", \"Topic10\", \"Topic10\", \"Topic10\", \"Topic10\", \"Topic10\", \"Topic10\", \"Topic10\", \"Topic10\", \"Topic10\", \"Topic10\", \"Topic10\", \"Topic10\", \"Topic10\", \"Topic10\", \"Topic10\", \"Topic10\", \"Topic10\", \"Topic10\", \"Topic10\", \"Topic11\", \"Topic11\", \"Topic11\", \"Topic11\", \"Topic11\", \"Topic11\", \"Topic11\", \"Topic11\", \"Topic11\", \"Topic11\", \"Topic11\", \"Topic11\", \"Topic11\", \"Topic11\", \"Topic11\", \"Topic11\", \"Topic11\", \"Topic11\", \"Topic11\", \"Topic11\", \"Topic11\", \"Topic11\", \"Topic11\", \"Topic11\", \"Topic11\", \"Topic11\", \"Topic11\", \"Topic11\", \"Topic11\", \"Topic11\", \"Topic11\", \"Topic11\", \"Topic11\", \"Topic11\", \"Topic11\", \"Topic11\", \"Topic11\", \"Topic12\", \"Topic12\", \"Topic12\", \"Topic12\", \"Topic12\", \"Topic12\", \"Topic12\", \"Topic12\", \"Topic12\", \"Topic12\", \"Topic12\", \"Topic12\", \"Topic12\", \"Topic12\", \"Topic12\", \"Topic12\", \"Topic12\", \"Topic12\", \"Topic12\", \"Topic12\", \"Topic12\", \"Topic12\", \"Topic12\", \"Topic12\", \"Topic12\", \"Topic12\", \"Topic12\", \"Topic12\", \"Topic12\", \"Topic12\", \"Topic12\", \"Topic13\", \"Topic13\", \"Topic13\", \"Topic13\", \"Topic13\", \"Topic13\", \"Topic13\", \"Topic13\", \"Topic13\", \"Topic13\", \"Topic13\", \"Topic13\", \"Topic13\", \"Topic13\", \"Topic13\", \"Topic13\", \"Topic13\", \"Topic13\", \"Topic13\", \"Topic13\", \"Topic13\", \"Topic13\", \"Topic13\", \"Topic13\", \"Topic13\", \"Topic13\", \"Topic13\", \"Topic13\", \"Topic13\", \"Topic13\", \"Topic13\", \"Topic13\", \"Topic13\", \"Topic13\", \"Topic13\", \"Topic13\", \"Topic14\", \"Topic14\", \"Topic14\", \"Topic14\", \"Topic14\", \"Topic14\", \"Topic14\", \"Topic14\", \"Topic14\", \"Topic14\", \"Topic14\", \"Topic14\", \"Topic14\", \"Topic14\", \"Topic14\", \"Topic14\", \"Topic14\", \"Topic14\", \"Topic14\", \"Topic14\", \"Topic14\", \"Topic14\", \"Topic14\", \"Topic14\", \"Topic14\", \"Topic14\", \"Topic14\", \"Topic14\", \"Topic14\", \"Topic14\", \"Topic14\", \"Topic14\", \"Topic14\", \"Topic15\", \"Topic15\", \"Topic15\", \"Topic15\", \"Topic15\", \"Topic15\", \"Topic15\", \"Topic15\", \"Topic15\", \"Topic15\", \"Topic15\", \"Topic15\", \"Topic15\", \"Topic15\", \"Topic15\", \"Topic15\", \"Topic15\", \"Topic15\", \"Topic15\", \"Topic15\", \"Topic15\", \"Topic15\", \"Topic15\", \"Topic15\", \"Topic15\", \"Topic15\", \"Topic15\", \"Topic15\", \"Topic15\", \"Topic15\", \"Topic15\"], \"logprob\": [30.0, 29.0, 28.0, 27.0, 26.0, 25.0, 24.0, 23.0, 22.0, 21.0, 20.0, 19.0, 18.0, 17.0, 16.0, 15.0, 14.0, 13.0, 12.0, 11.0, 10.0, 9.0, 8.0, 7.0, 6.0, 5.0, 4.0, 3.0, 2.0, 1.0, -5.059500217437744, -5.126399993896484, -5.434700012207031, -5.656599998474121, -5.776599884033203, -5.803400039672852, -5.815499782562256, -5.8618998527526855, -5.88100004196167, -5.972899913787842, -5.984000205993652, -6.008800029754639, -6.060800075531006, -6.062600135803223, -6.114299774169922, -6.162199974060059, -6.180500030517578, -6.207200050354004, -6.209099769592285, -6.221499919891357, -6.234799861907959, -6.25629997253418, -6.26669979095459, -6.277900218963623, -6.293000221252441, -6.293300151824951, -6.327499866485596, -6.3354997634887695, -6.346799850463867, -5.843500137329102, -5.5493998527526855, -6.148600101470947, -5.78000020980835, -5.155900001525879, -5.241199970245361, -5.900400161743164, -5.798500061035156, -5.326900005340576, -5.9045000076293945, -5.8471999168396, -5.578700065612793, -5.606299877166748, -4.5833001136779785, -5.105100154876709, -5.464099884033203, -5.346099853515625, -4.256899833679199, -5.263999938964844, -4.208700180053711, -4.610400199890137, -4.195700168609619, -5.547500133514404, -5.151000022888184, -5.198500156402588, -4.507299900054932, -4.982999801635742, -4.894499778747559, -5.330599784851074, -4.161900043487549, -4.733799934387207, -5.416200160980225, -5.333899974822998, -4.934100151062012, -5.325699806213379, -5.144000053405762, -5.019800186157227, -4.993500232696533, -5.059700012207031, -5.068900108337402, -5.057400226593018, -5.215700149536133, -5.259500026702881, -5.273499965667725, -5.2941999435424805, -5.32289981842041, -4.387400150299072, -4.508999824523926, -4.350200176239014, -4.879700183868408, -5.0278000831604, -5.099800109863281, -5.203000068664551, -5.303599834442139, -5.3109002113342285, -5.537799835205078, -5.5524001121521, -5.564199924468994, -5.5742998123168945, -5.576600074768066, -5.592599868774414, -5.597799777984619, -5.599599838256836, -5.602099895477295, -5.633800029754639, -5.681300163269043, -5.684000015258789, -5.743199825286865, -5.747600078582764, -5.771500110626221, -5.849299907684326, -5.874499797821045, -5.888899803161621, -5.9446001052856445, -5.9664998054504395, -6.0208001136779785, -3.577899932861328, -5.2804999351501465, -5.096399784088135, -5.116199970245361, -5.629499912261963, -4.8460001945495605, -4.9191999435424805, -5.2444000244140625, -3.7167999744415283, -4.828000068664551, -5.083099842071533, -5.120200157165527, -4.847599983215332, -5.336299896240234, -4.271399974822998, -4.780799865722656, -4.786799907684326, -4.173399925231934, -4.52869987487793, -4.989500045776367, -4.868800163269043, -4.890100002288818, -4.76039981842041, -4.745699882507324, -4.985599994659424, -4.909299850463867, -4.910200119018555, -5.140699863433838, -4.178199768066406, -4.315899848937988, -4.541399955749512, -4.815199851989746, -4.8470001220703125, -5.2596001625061035, -5.345600128173828, -5.399400234222412, -5.4070000648498535, -5.414899826049805, -5.419400215148926, -5.5177998542785645, -5.544600009918213, -5.834099769592285, -5.861100196838379, -5.977799892425537, -5.9934000968933105, -5.994500160217285, -6.029600143432617, -6.099100112915039, -6.157899856567383, -6.159299850463867, -6.222899913787842, -6.281000137329102, -6.284299850463867, -6.326700210571289, -6.36269998550415, -6.465700149536133, -6.510900020599365, -6.51140022277832, -5.751200199127197, -3.0244998931884766, -5.77209997177124, -3.829900026321411, -4.802599906921387, -5.875500202178955, -4.726799964904785, -5.162399768829346, -4.766499996185303, -4.42519998550415, -4.503600120544434, -4.406499862670898, -3.91729998588562, -4.599899768829346, -3.71370005607605, -5.584000110626221, -3.702500104904175, -4.066199779510498, -3.8715999126434326, -4.786200046539307, -5.052299976348877, -3.8675999641418457, -4.5289998054504395, -4.238999843597412, -4.3130998611450195, -4.6539998054504395, -4.455699920654297, -4.202899932861328, -4.376299858093262, -4.769999980926514, -4.879000186920166, -4.725599765777588, -4.678199768066406, -4.69950008392334, -3.3578999042510986, -3.4154999256134033, -3.8856000900268555, -4.994900226593018, -5.052499771118164, -5.156000137329102, -5.162899971008301, -5.251699924468994, -5.3206000328063965, -5.7154998779296875, -5.958099842071533, -5.996399879455566, -6.236999988555908, -6.323800086975098, -6.570099830627441, -2.2251999378204346, -6.587299823760986, -6.5980000495910645, -6.686200141906738, -6.693900108337402, -6.725500106811523, -6.784900188446045, -6.8302998542785645, -6.859000205993652, -6.964099884033203, -7.09499979019165, -7.16349983215332, -7.169600009918213, -7.204699993133545, -7.212900161743164, -4.113900184631348, -5.838399887084961, -3.478300094604492, -3.0750999450683594, -2.5638999938964844, -5.297900199890137, -5.226099967956543, -6.0447998046875, -5.599899768829346, -5.010900020599365, -4.269899845123291, -4.402599811553955, -5.2133002281188965, -5.13100004196167, -5.1869001388549805, -3.6540000438690186, -4.525199890136719, -4.193900108337402, -3.668299913406372, -4.116600036621094, -4.186999797821045, -4.76609992980957, -4.327199935913086, -3.7813000679016113, -4.463900089263916, -4.2058000564575195, -4.714300155639648, -4.604000091552734, -4.747600078582764, -4.851600170135498, -4.678999900817871, -5.014999866485596, -4.801199913024902, -4.897799968719482, -4.958099842071533, -3.335200071334839, -4.127600193023682, -4.263500213623047, -4.671500205993652, -4.7866997718811035, -5.0817999839782715, -5.144700050354004, -5.0518999099731445, -5.224800109863281, -5.246799945831299, -5.267199993133545, -5.278600215911865, -5.3582000732421875, -5.490499973297119, -5.517300128936768, -5.565700054168701, -5.666299819946289, -5.666800022125244, -5.676799774169922, -5.6921000480651855, -5.701399803161621, -5.719699859619141, -5.729899883270264, -5.74429988861084, -5.752299785614014, -5.756700038909912, -5.757699966430664, -5.775400161743164, -5.778200149536133, -5.825500011444092, -5.271900177001953, -4.0320000648498535, -4.473499774932861, -5.240099906921387, -5.007999897003174, -4.475299835205078, -4.584799766540527, -5.474800109863281, -4.984899997711182, -4.714799880981445, -4.532800197601318, -4.432499885559082, -4.662499904632568, -4.797699928283691, -4.661099910736084, -3.7636001110076904, -5.089600086212158, -4.605100154876709, -4.578199863433838, -4.905099868774414, -4.954500198364258, -4.517600059509277, -4.911300182342529, -4.38539981842041, -5.007699966430664, -4.871500015258789, -5.042900085449219, -5.031400203704834, -0.3452000021934509, -4.3867998123168945, -4.396399974822998, -4.569399833679199, -4.606599807739258, -4.645999908447266, -4.6956000328063965, -4.700900077819824, -5.236800193786621, -5.428199768066406, -5.460899829864502, -5.537899971008301, -5.589099884033203, -5.603899955749512, -5.63700008392334, -5.65749979019165, -5.661200046539307, -5.735300064086914, -5.793799877166748, -5.813799858093262, -5.857100009918213, -5.867400169372559, -5.932199954986572, -5.95359992980957, -6.023099899291992, -6.182600021362305, -6.20959997177124, -6.263500213623047, -6.304599761962891, -6.321300029754639, -2.8050999641418457, -3.043600082397461, -3.6758999824523926, -3.8810999393463135, -3.930000066757202, -4.009099960327148, -4.029099941253662, -4.142499923706055, -4.221799850463867, -4.412899971008301, -4.554500102996826, -4.568699836730957, -4.6479997634887695, -4.848899841308594, -4.874100208282471, -4.919099807739258, -4.96589994430542, -5.046000003814697, -5.088799953460693, -5.18120002746582, -5.30079984664917, -5.314000129699707, -5.354899883270264, -5.3907999992370605, -5.436200141906738, -5.456900119781494, -5.475800037384033, -5.598100185394287, -5.646299839019775, -5.697800159454346, -2.809799909591675, -3.723900079727173, -4.740600109100342, -4.4334001541137695, -4.2418999671936035, -4.207499980926514, -3.974900007247925, -3.9019999504089355, -4.714300155639648, -5.053699970245361, -4.6244001388549805, -4.669600009918213, -4.423600196838379, -4.6834001541137695, -4.591800212860107, -4.832399845123291, -4.87060022354126, -2.167799949645996, -2.584199905395508, -3.3938000202178955, -3.4479000568389893, -3.471100091934204, -3.7004001140594482, -3.7732999324798584, -3.9189000129699707, -3.9867000579833984, -4.044400215148926, -4.088099956512451, -4.19379997253418, -4.395599842071533, -4.521699905395508, -4.777900218963623, -4.80109977722168, -4.827400207519531, -4.882699966430664, -5.011600017547607, -5.040900230407715, -5.056600093841553, -5.0858001708984375, -5.14300012588501, -5.295199871063232, -5.346399784088135, -5.427000045776367, -5.440899848937988, -5.552000045776367, -5.611000061035156, -5.638700008392334, -3.3515000343322754, -4.278200149536133, -4.180500030517578, -3.759200096130371, -4.3231000900268555, -3.7474000453948975, -4.115099906921387, -4.826399803161621, -4.418300151824951, -4.948200225830078, -4.991399765014648, -2.3027000427246094, -2.854599952697754, -3.541800022125244, -3.5834999084472656, -3.6765999794006348, -3.7458999156951904, -3.82450008392334, -3.8320999145507812, -3.977299928665161, -3.990600109100342, -4.0569000244140625, -4.112599849700928, -4.256800174713135, -4.453199863433838, -4.511499881744385, -4.603000164031982, -4.630899906158447, -4.862599849700928, -4.876699924468994, -4.9293999671936035, -4.971399784088135, -5.0706000328063965, -5.094299793243408, -5.12939977645874, -5.1697998046875, -5.196899890899658, -5.239999771118164, -5.253699779510498, -5.270699977874756, -5.272299766540527, -3.728600025177002, -2.828200101852417, -4.141499996185303, -4.276199817657471, -4.3678998947143555, -4.074399948120117, -4.904699802398682, -4.8734002113342285, -4.791600227355957, -4.889599800109863, -3.5083999633789062, -3.559499979019165, -3.62280011177063, -3.665299892425537, -3.7411000728607178, -4.097300052642822, -4.184700012207031, -4.206600189208984, -4.21560001373291, -4.3155999183654785, -4.316699981689453, -4.451200008392334, -4.5131001472473145, -4.6031999588012695, -4.686200141906738, -4.699100017547607, -4.796999931335449, -4.851799964904785, -4.8831000328063965, -4.893799781799316, -4.9440999031066895, -5.089300155639648, -5.167399883270264, -5.2342000007629395, -5.440999984741211, -5.468800067901611, -5.480100154876709, -5.504700183868408, -5.524899959564209, -5.5894999504089355, -3.8617000579833984, -4.338699817657471, -3.687299966812134, -3.3326001167297363, -4.099999904632568, -3.8989999294281006, -4.548900127410889, -4.473899841308594, -4.257800102233887, -3.9646999835968018, -4.554800033569336, -4.879199981689453, -3.5172998905181885, -3.5288000106811523, -3.588599920272827, -3.6775999069213867, -3.830899953842163, -3.8343000411987305, -3.9554998874664307, -4.064000129699707, -4.0756001472473145, -4.12470006942749, -4.2357001304626465, -4.27810001373291, -4.321599960327148, -4.373199939727783, -4.37529993057251, -4.390699863433838, -4.429100036621094, -4.509399890899658, -4.554599761962891, -4.723800182342529, -4.76800012588501, -4.802000045776367, -4.802700042724609, -4.824900150299072, -4.870699882507324, -4.8968000411987305, -4.9766998291015625, -4.992099761962891, -5.077499866485596, -5.113699913024902, -2.2511000633239746, -4.2195000648498535, -3.8287999629974365, -4.568699836730957, -4.518099784851074, -4.470099925994873, -4.7596001625061035, -2.800299882888794, -2.980299949645996, -3.030100107192993, -3.1851999759674072, -3.329200029373169, -3.493499994277954, -3.632200002670288, -3.740499973297119, -3.8104000091552734, -3.9058001041412354, -3.944200038909912, -4.021100044250488, -4.026400089263916, -4.031400203704834, -4.095300197601318, -4.278500080108643, -4.280300140380859, -4.3703999519348145, -4.386899948120117, -4.3917999267578125, -4.546599864959717, -4.563799858093262, -4.605500221252441, -4.606299877166748, -4.6234002113342285, -4.646900177001953, -4.688399791717529, -4.71120023727417, -4.756800174713135, -4.845900058746338, -4.505300045013428, -2.0092999935150146, -3.133500099182129, -3.162400007247925, -3.1882998943328857, -3.4797000885009766, -3.525599956512451, -3.575500011444092, -3.587100028991699, -3.6280999183654785, -4.003699779510498, -4.21999979019165, -4.298699855804443, -4.795000076293945, -4.81279993057251, -4.842899799346924, -4.884300231933594, -5.011199951171875, -5.329599857330322, -5.407299995422363, -5.580999851226807, -5.624599933624268, -4.051300048828125, -5.917399883270264, -6.0065999031066895, -6.370200157165527, -2.8747000694274902, -6.911499977111816, -3.224900007247925, -7.262499809265137, -7.326600074768066, -3.987600088119507, -3.952899932861328, -5.550600051879883, -5.389500141143799, -5.65500020980835, -5.880799770355225, -1.8385000228881836, -2.947999954223633, -3.017400026321411, -3.037899971008301, -3.405900001525879, -3.8148000240325928, -3.8610999584198, -3.9251999855041504, -4.133399963378906, -4.150599956512451, -4.216300010681152, -4.326499938964844, -4.755899906158447, -4.794300079345703, -5.093299865722656, -5.571800231933594, -6.4019999504089355, -6.454800128936768, -6.993800163269043, -7.0183000564575195, -5.5416998863220215, -2.4647998809814453, -9.339500427246094, -4.337699890136719, -5.378699779510498, -4.734000205993652, -5.13700008392334, -11.51259994506836, -11.534199714660645, -11.535200119018555, -5.812399864196777, -7.588900089263916, -8.999300003051758, -2.4827001094818115, -2.6926000118255615, -2.8357999324798584, -2.839200019836426, -3.6946001052856445, -3.756500005722046, -3.8190999031066895, -3.8248000144958496, -3.9159998893737793, -3.9916000366210938, -4.0980000495910645, -4.1697998046875, -4.309199810028076, -4.5157999992370605, -4.705399990081787, -4.71619987487793, -4.727799892425537, -4.798500061035156, -4.812399864196777, -4.863100051879883, -4.875999927520752, -4.892199993133545, -4.958199977874756, -5.129799842834473, -5.449900150299072, -5.468299865722656, -5.48390007019043, -5.732500076293945, -6.084400177001953, -6.148099899291992, -3.2632999420166016], \"loglift\": [30.0, 29.0, 28.0, 27.0, 26.0, 25.0, 24.0, 23.0, 22.0, 21.0, 20.0, 19.0, 18.0, 17.0, 16.0, 15.0, 14.0, 13.0, 12.0, 11.0, 10.0, 9.0, 8.0, 7.0, 6.0, 5.0, 4.0, 3.0, 2.0, 1.0, 1.4301999807357788, 1.4301999807357788, 1.429900050163269, 1.4296000003814697, 1.4294999837875366, 1.4293999671936035, 1.4293999671936035, 1.4293999671936035, 1.4292999505996704, 1.4292000532150269, 1.4292000532150269, 1.4291000366210938, 1.4290000200271606, 1.4290000200271606, 1.4289000034332275, 1.4287999868392944, 1.4287999868392944, 1.4286999702453613, 1.4286999702453613, 1.4286999702453613, 1.4286999702453613, 1.4285999536514282, 1.4285999536514282, 1.4285999536514282, 1.4285000562667847, 1.4285000562667847, 1.4284000396728516, 1.4284000396728516, 1.4284000396728516, 1.4283000230789185, 1.4261000156402588, 1.4280999898910522, 1.423200011253357, 1.4155000448226929, 1.3913999795913696, 1.416200041770935, 1.4050999879837036, 1.3708000183105469, 1.4048999547958374, 1.3932000398635864, 1.343500018119812, 1.3464000225067139, 1.1930999755859375, 1.238700032234192, 1.284999966621399, 1.2513999938964844, 0.9882000088691711, 1.226699948310852, 0.8841000199317932, 0.9746000170707703, 0.8179000020027161, 1.2776000499725342, 1.1253000497817993, 1.1263999938964844, 0.8047999739646912, 1.0096999406814575, 0.9415000081062317, 1.1655999422073364, 0.36899998784065247, 0.7006999850273132, 1.1576999425888062, 1.0857000350952148, 0.741100013256073, 1.0680999755859375, 0.8535000085830688, 0.7113999724388123, 0.5623999834060669, 0.621399998664856, 0.5266000032424927, 0.46630001068115234, 0.6818000078201294, 0.0142000000923872, 0.19949999451637268, -0.01759999990463257, 0.4674000144004822, 1.5113999843597412, 1.511299967765808, 1.511199951171875, 1.5111000537872314, 1.5110000371932983, 1.5110000371932983, 1.5109000205993652, 1.5108000040054321, 1.5108000040054321, 1.5104999542236328, 1.5104999542236328, 1.5104999542236328, 1.5104999542236328, 1.5104999542236328, 1.5104999542236328, 1.5104999542236328, 1.5104999542236328, 1.5104999542236328, 1.5104000568389893, 1.5103000402450562, 1.5103000402450562, 1.5103000402450562, 1.510200023651123, 1.510200023651123, 1.51010000705719, 1.5099999904632568, 1.5099999904632568, 1.5098999738693237, 1.5098999738693237, 1.5097999572753906, 1.4910000562667847, 1.506700038909912, 1.493499994277954, 1.4910999536514282, 1.5032999515533447, 1.4696999788284302, 1.4465999603271484, 1.4609999656677246, 1.2181999683380127, 1.3727999925613403, 1.4011000394821167, 1.4042999744415283, 1.2755000591278076, 1.3912999629974365, 0.8256999850273132, 1.0562000274658203, 0.932200014591217, 0.35749998688697815, 0.46939998865127563, 0.8416000008583069, 0.691100001335144, 0.7053999900817871, 0.33230000734329224, 0.2680000066757202, 0.7163000106811523, 0.43790000677108765, -0.4009999930858612, 0.7829999923706055, 2.100800037384033, 2.100800037384033, 2.100600004196167, 2.1003000736236572, 2.1003000736236572, 2.0996999740600586, 2.099600076675415, 2.0994999408721924, 2.0994999408721924, 2.0994999408721924, 2.0994999408721924, 2.099299907684326, 2.0992000102996826, 2.0985000133514404, 2.098400115966797, 2.0980000495910645, 2.0980000495910645, 2.0980000495910645, 2.0978000164031982, 2.097599983215332, 2.0973000526428223, 2.0973000526428223, 2.097100019454956, 2.0968000888824463, 2.0968000888824463, 2.09660005569458, 2.096400022506714, 2.095900058746338, 2.095599889755249, 2.095599889755249, 2.089600086212158, 2.049799919128418, 2.0878000259399414, 2.012200117111206, 2.039400100708008, 2.073199987411499, 1.972000002861023, 1.9986000061035156, 1.9526000022888184, 1.8449000120162964, 1.8279000520706177, 1.745300054550171, 1.6064000129699707, 1.7382999658584595, 1.4830000400543213, 1.9917999505996704, 1.394700050354004, 1.4937000274658203, 1.4020999670028687, 1.707900047302246, 1.7991000413894653, 1.2007999420166016, 1.4729000329971313, 1.1956000328063965, 1.0341999530792236, 1.3437000513076782, 1.1002000570297241, 0.7321000099182129, 0.8687999844551086, 1.3388999700546265, 1.4802000522613525, 0.9843999743461609, 0.3197999894618988, 0.3140999972820282, 2.108099937438965, 2.108099937438965, 2.1080000400543213, 2.107100009918213, 2.1070001125335693, 2.1068999767303467, 2.1068999767303467, 2.1066999435424805, 2.106600046157837, 2.1057000160217285, 2.1050000190734863, 2.1048998832702637, 2.1038999557495117, 2.1034998893737793, 2.1022000312805176, 2.1022000312805176, 2.102099895477295, 2.1019999980926514, 2.1013998985290527, 2.1013998985290527, 2.1012001037597656, 2.1006999015808105, 2.100399971008301, 2.100100040435791, 2.0992000102996826, 2.0980000495910645, 2.0971999168395996, 2.0971999168395996, 2.0968000888824463, 2.0966999530792236, 2.071899890899658, 2.088099956512451, 2.0618999004364014, 1.972000002861023, 1.9452999830245972, 2.0399999618530273, 2.0095999240875244, 2.0446999073028564, 1.9860999584197998, 1.9249000549316406, 1.8282999992370605, 1.7927000522613525, 1.8968000411987305, 1.8762999773025513, 1.8630000352859497, 1.4143999814987183, 1.624400019645691, 1.5085999965667725, 1.329699993133545, 1.4778000116348267, 1.4276000261306763, 1.6597000360488892, 1.3827999830245972, 0.7495999932289124, 1.2777999639511108, 0.9908999800682068, 1.3391000032424927, 1.1270999908447266, 1.2172000408172607, 1.3507000207901, 0.7940000295639038, 1.6146999597549438, 0.7838000059127808, 0.37880000472068787, 0.8730000257492065, 2.1791000366210938, 2.178800106048584, 2.1786999702453613, 2.178299903869629, 2.1782000064849854, 2.177799940109253, 2.1777000427246094, 2.1777000427246094, 2.1775999069213867, 2.1775999069213867, 2.177500009536743, 2.177500009536743, 2.1774001121520996, 2.1770999431610107, 2.177000045776367, 2.1768999099731445, 2.1767001152038574, 2.1767001152038574, 2.1765999794006348, 2.1765999794006348, 2.1765999794006348, 2.176500082015991, 2.176500082015991, 2.1763999462127686, 2.1763999462127686, 2.1763999462127686, 2.1763999462127686, 2.1763999462127686, 2.176300048828125, 2.1761999130249023, 2.171600103378296, 2.158900022506714, 2.156100034713745, 2.1654999256134033, 2.156899929046631, 2.1284000873565674, 2.1154000759124756, 2.156899929046631, 2.097100019454956, 2.029900074005127, 1.9473999738693237, 1.8931000232696533, 1.9175000190734863, 1.9306000471115112, 1.8502000570297241, 1.5130000114440918, 2.0058999061584473, 1.8035000562667847, 1.6682000160217285, 1.8828999996185303, 1.8680000305175781, 1.3797999620437622, 1.7331000566482544, 0.926800012588501, 1.7937999963760376, 1.1260000467300415, 1.201799988746643, 0.583299994468689, 3.0344998836517334, 3.032900094985962, 3.032900094985962, 3.032599925994873, 3.0325000286102295, 3.032399892807007, 3.0322999954223633, 3.0322999954223633, 3.0306999683380127, 3.029900074005127, 3.0297999382019043, 3.029400110244751, 3.029099941253662, 3.0290000438690186, 3.0288000106811523, 3.028700113296509, 3.028700113296509, 3.0283000469207764, 3.027899980545044, 3.0276999473571777, 3.027400016784668, 3.027400016784668, 3.026900053024292, 3.026700019836426, 3.02620005607605, 3.0246999263763428, 3.024399995803833, 3.023900032043457, 3.023400068283081, 3.023200035095215, 3.288300037384033, 3.2881999015808105, 3.287600040435791, 3.287400007247925, 3.2873001098632812, 3.2871999740600586, 3.2871999740600586, 3.2869999408721924, 3.286799907684326, 3.286400079727173, 3.286099910736084, 3.286099910736084, 3.285799980163574, 3.2852001190185547, 3.285099983215332, 3.284899950027466, 3.2848000526428223, 3.28439998626709, 3.2841999530792236, 3.283799886703491, 3.2832000255584717, 3.283099889755249, 3.282900094985962, 3.282599925994873, 3.282399892807007, 3.2822000980377197, 3.282099962234497, 3.2811999320983887, 3.280900001525879, 3.2804999351501465, 3.237799882888794, 3.245699882507324, 3.252700090408325, 3.1858999729156494, 3.0176000595092773, 2.9226999282836914, 2.407900094985962, 2.0998001098632812, 2.7132999897003174, 3.017400026321411, 2.461899995803833, 2.4202001094818115, 1.3076000213623047, 1.850600004196167, 0.6848000288009644, 1.6638000011444092, 1.94350004196167, 3.8264999389648438, 3.8262999057769775, 3.825500011444092, 3.8254001140594482, 3.8254001140594482, 3.825000047683716, 3.8248000144958496, 3.82450008392334, 3.8243000507354736, 3.824199914932251, 3.8239998817443848, 3.823699951171875, 3.822999954223633, 3.822499990463257, 3.821199893951416, 3.821000099182129, 3.8208999633789062, 3.820499897003174, 3.819700002670288, 3.8194000720977783, 3.8192999362945557, 3.8190999031066895, 3.8185999393463135, 3.8173000812530518, 3.816800117492676, 3.8159000873565674, 3.8157999515533447, 3.814500093460083, 3.813699960708618, 3.8134000301361084, 3.8048999309539795, 3.73009991645813, 3.6784000396728516, 3.5761001110076904, 3.6013998985290527, 2.8824000358581543, 2.6726999282836914, 3.3638999462127686, 2.309999942779541, 3.1005001068115234, 3.0450000762939453, 3.8570001125335693, 3.856600046157837, 3.8557000160217285, 3.8557000160217285, 3.8554999828338623, 3.855299949645996, 3.8552000522613525, 3.85509991645813, 3.85479998588562, 3.85479998588562, 3.854599952697754, 3.8543999195098877, 3.8538999557495117, 3.8531999588012695, 3.8529000282287598, 3.8524999618530273, 3.852299928665161, 3.8510000705718994, 3.8508999347686768, 3.8505001068115234, 3.8503000736236572, 3.8494999408721924, 3.849299907684326, 3.8489999771118164, 3.8487000465393066, 3.848400115966797, 3.8480000495910645, 3.847899913787842, 3.8477001190185547, 3.8477001190185547, 3.7750000953674316, 3.6164000034332275, 3.578000068664551, 3.517699956893921, 3.4156999588012695, 2.453700065612793, 3.062299966812134, 2.402600049972534, 1.045300006866455, 1.594599962234497, 4.021900177001953, 4.0218000411987305, 4.021599769592285, 4.021500110626221, 4.021299839019775, 4.020299911499023, 4.019899845123291, 4.019899845123291, 4.019800186157227, 4.019400119781494, 4.019400119781494, 4.018799781799316, 4.018400192260742, 4.017899990081787, 4.017399787902832, 4.017300128936768, 4.01669979095459, 4.016300201416016, 4.015999794006348, 4.015900135040283, 4.015500068664551, 4.014200210571289, 4.013500213623047, 4.012800216674805, 4.010200023651123, 4.009799957275391, 4.009699821472168, 4.009300231933594, 4.008999824523926, 4.0081000328063965, 3.977799892425537, 3.8231000900268555, 3.58870005607605, 3.4948999881744385, 3.614799976348877, 3.1041998863220215, 3.4179999828338623, 3.350600004196167, 2.887700080871582, 2.4798998832702637, 3.1810998916625977, 3.6386001110076904, 4.584499835968018, 4.584400177001953, 4.584199905395508, 4.583899974822998, 4.583199977874756, 4.583199977874756, 4.582600116729736, 4.581900119781494, 4.581900119781494, 4.581600189208984, 4.5808000564575195, 4.58050012588501, 4.5802001953125, 4.579699993133545, 4.579699993133545, 4.579599857330322, 4.5792999267578125, 4.578499794006348, 4.578100204467773, 4.576300144195557, 4.575799942016602, 4.575300216674805, 4.575300216674805, 4.574999809265137, 4.574399948120117, 4.574100017547607, 4.57289981842041, 4.572700023651123, 4.571300029754639, 4.570700168609619, 4.524199962615967, 4.5100998878479, 3.6552999019622803, 3.770400047302246, 3.4198999404907227, 1.5774999856948853, 3.3777999877929688, 4.747099876403809, 4.746699810028076, 4.746600151062012, 4.746099948883057, 4.745699882507324, 4.745100021362305, 4.744500160217285, 4.743899822235107, 4.743599891662598, 4.743000030517578, 4.742800235748291, 4.742300033569336, 4.742199897766113, 4.742199897766113, 4.741700172424316, 4.740300178527832, 4.740300178527832, 4.7393999099731445, 4.739299774169922, 4.739200115203857, 4.737599849700928, 4.737400054931641, 4.7368998527526855, 4.7368998527526855, 4.736700057983398, 4.736400127410889, 4.735799789428711, 4.735499858856201, 4.734899997711182, 4.73360013961792, 3.67930006980896, 4.834799766540527, 4.832699775695801, 4.832600116729736, 4.832600116729736, 4.831500053405762, 4.831299781799316, 4.830999851226807, 4.830999851226807, 4.8308000564575195, 4.828499794006348, 4.826700210571289, 4.826000213623047, 4.819699764251709, 4.819399833679199, 4.818900108337402, 4.81820011138916, 4.815800189971924, 4.808499813079834, 4.806300163269043, 4.80079984664917, 4.799200057983398, 4.795199871063232, 4.787099838256836, 4.782700061798096, 4.760200023651123, 4.735899925231934, 4.709199905395508, 4.706999778747559, 4.660399913787842, 4.649799823760986, 4.35890007019043, 3.434799909591675, 3.8903000354766846, 2.5889999866485596, 3.1470999717712402, 2.370800018310547, 5.229800224304199, 5.227200031280518, 5.2270002365112305, 5.226900100708008, 5.224999904632568, 5.2220001220703125, 5.221499919891357, 5.220900058746338, 5.218599796295166, 5.218400001525879, 5.21750020980835, 5.21589994430542, 5.207900047302246, 5.206999778747559, 5.198699951171875, 5.1793999671936035, 5.116199970245361, 5.110400199890137, 5.032299995422363, 5.0278000831604, 4.105299949645996, 4.069200038909912, 4.038300037384033, 3.017699956893921, 2.9159998893737793, 2.885200023651123, 2.5653998851776123, 2.17330002784729, 2.1572000980377197, 2.1533000469207764, 1.343999981880188, 0.7150999903678894, -0.013199999928474426, 5.247600078582764, 5.247099876403809, 5.246600151062012, 5.246600151062012, 5.2418999671936035, 5.241399765014648, 5.240799903869629, 5.240699768066406, 5.239799976348877, 5.238999843597412, 5.237800121307373, 5.2368998527526855, 5.234899997711182, 5.231500148773193, 5.227700233459473, 5.227399826049805, 5.227200031280518, 5.225500106811523, 5.225200176239014, 5.223899841308594, 5.223499774932861, 5.223100185394287, 5.22130012512207, 5.216000080108643, 5.203400135040283, 5.202600002288818, 5.201900005340576, 5.188700199127197, 5.16379976272583, 5.158400058746338, 4.776100158691406]}, \"token.table\": {\"Topic\": [2, 5, 2, 4, 5, 4, 5, 6, 2, 1, 10, 6, 2, 5, 1, 2, 4, 5, 8, 9, 12, 12, 4, 5, 7, 4, 10, 1, 10, 2, 2, 10, 13, 10, 3, 1, 2, 4, 12, 13, 2, 2, 9, 10, 9, 8, 5, 7, 3, 6, 1, 3, 14, 1, 2, 3, 8, 13, 12, 1, 2, 3, 4, 2, 2, 6, 12, 8, 14, 1, 3, 7, 14, 1, 9, 5, 6, 2, 10, 13, 4, 6, 4, 1, 10, 13, 14, 4, 8, 5, 11, 1, 2, 3, 4, 7, 3, 12, 8, 5, 4, 1, 2, 10, 13, 1, 2, 5, 6, 9, 1, 2, 4, 7, 9, 2, 10, 14, 2, 9, 2, 9, 10, 2, 7, 5, 8, 4, 13, 4, 15, 8, 1, 2, 3, 5, 11, 1, 15, 7, 6, 15, 14, 4, 5, 15, 2, 1, 11, 7, 15, 13, 15, 5, 7, 3, 7, 12, 13, 9, 15, 15, 1, 2, 3, 4, 1, 2, 1, 10, 7, 11, 9, 9, 12, 9, 15, 4, 1, 5, 15, 1, 2, 10, 8, 1, 3, 4, 6, 6, 5, 7, 14, 14, 2, 10, 12, 7, 10, 9, 5, 14, 2, 14, 7, 10, 6, 2, 7, 7, 11, 15, 4, 3, 1, 2, 7, 3, 8, 4, 8, 1, 2, 11, 8, 1, 2, 14, 4, 7, 7, 9, 9, 1, 2, 3, 5, 6, 8, 1, 4, 1, 2, 3, 7, 2, 7, 14, 1, 2, 3, 2, 9, 2, 5, 15, 15, 2, 7, 5, 11, 1, 2, 11, 3, 2, 1, 3, 4, 14, 8, 14, 9, 1, 7, 1, 2, 4, 5, 7, 12, 10, 13, 13, 1, 2, 3, 10, 13, 12, 2, 5, 7, 4, 2, 8, 1, 2, 10, 7, 15, 11, 3, 8, 10, 3, 1, 8, 13, 8, 8, 15, 10, 1, 3, 4, 6, 6, 10, 1, 2, 3, 4, 7, 13, 1, 2, 3, 12, 2, 1, 2, 3, 4, 9, 10, 7, 4, 10, 1, 13, 3, 13, 2, 3, 10, 5, 1, 2, 3, 4, 1, 2, 4, 6, 1, 4, 7, 3, 4, 1, 5, 8, 11, 3, 3, 13, 1, 3, 9, 12, 12, 4, 1, 2, 3, 14, 7, 11, 10, 7, 15, 2, 5, 10, 1, 5, 10, 5, 8, 5, 4, 10, 15, 10, 2, 10, 13, 9, 4, 2, 3, 2, 10, 3, 13, 1, 2, 3, 4, 1, 2, 10, 1, 5, 1, 3, 10, 11, 2, 9, 10, 12, 10, 9, 1, 2, 1, 2, 3, 4, 1, 5, 1, 7, 8, 15, 2, 2, 8, 2, 3, 4, 1, 2, 1, 3, 4, 3, 5, 2, 10, 7, 1, 1, 2, 3, 1, 3, 4, 2, 3, 2, 1, 8, 11, 4, 5, 7, 4, 5, 1, 2, 3, 5, 2, 10, 1, 2, 3, 5, 6, 11, 10, 2, 14, 1, 2, 4, 5, 1, 2, 3, 1, 2, 4, 7, 9, 4, 5, 7, 9, 8, 9, 10, 11, 11, 8, 7, 14, 8, 4, 12, 6, 11, 7, 11, 5, 5, 8, 1, 2, 3, 4, 4, 2, 10, 6, 1, 4, 5, 3, 4, 4, 5, 1, 4, 5, 5, 3, 5, 4, 14, 12, 9, 10, 13, 1, 3, 4, 5, 7, 15, 15, 5, 10, 10, 2, 5, 15, 8, 5, 11, 1, 2, 4, 4, 3, 7, 6, 3, 8, 3, 5, 8, 6, 3, 1, 1, 3, 11, 5, 14, 12, 12, 12, 2, 10, 5, 8, 12, 15, 2, 3, 15, 13, 3, 1, 2, 3, 4, 10, 1, 10, 11, 11, 3, 3, 3, 1, 2, 3, 7, 13, 9, 10, 8, 5, 6, 2, 4, 5, 1, 13, 12, 1, 5, 8, 4, 9, 9, 5, 1, 3, 15, 1, 4, 7, 5, 7, 11, 9, 1, 5, 11, 9, 10, 2, 1, 2, 5, 9, 9, 1, 1, 8, 13, 5, 14, 1, 2, 4, 11, 7, 1, 11, 14, 8, 15, 13, 2, 4, 7, 1, 2, 5, 1, 2, 3, 4, 8, 1, 2, 1, 5, 10, 8, 8, 1, 10, 7, 9, 5, 13, 14, 2, 2, 1, 2, 3, 1, 4, 10, 1, 5, 10, 5, 4, 9, 1, 7, 13, 8, 1, 2, 3, 9, 1, 8, 10, 10, 11, 11, 15, 3, 15, 4, 4, 3, 5, 7, 10, 2, 3, 5, 11, 2, 3, 6, 11, 15, 3, 7, 3, 9, 14, 2, 4, 11, 12, 9, 9, 1, 2, 3, 4, 7, 3, 5, 8, 4, 5, 2, 1, 7, 7, 1, 2, 4, 7, 1, 2, 10, 13, 8, 1, 11, 14, 3, 5, 2, 5, 7, 8, 10, 6, 8, 1, 5, 7, 11, 10, 4, 1, 2, 7, 4, 1, 2, 5, 7, 10, 7, 11, 12, 2, 13, 12, 8, 13, 1, 14, 2, 5, 1, 2, 3, 7, 3, 1, 2, 5, 9, 10, 6, 1, 1, 2, 3, 2, 7, 15, 6, 1, 10, 1, 12, 7, 14, 2, 5, 1, 5, 11, 9, 6, 7, 8, 14, 5, 1, 2, 3, 1, 10, 13, 5, 12, 3, 10, 5, 11, 1, 2, 3, 4, 7, 9, 4, 7, 4, 2, 3, 1, 2, 3, 1, 2, 3, 4, 9, 3, 10, 13, 8, 6, 1, 2, 3, 6, 13, 6, 5, 3, 7, 12, 5, 9, 13, 10, 2, 7, 2, 1, 2, 3, 4, 7, 10, 10, 13, 1, 8, 14, 1, 4, 5, 7, 11, 1, 2, 8, 14, 5, 1, 4, 15, 12, 4, 11, 6, 1, 4, 5, 7, 1, 7, 6, 6, 4, 5, 7, 10, 11, 15, 12, 1, 12, 1, 2, 3, 4, 10, 11, 3, 1, 2, 3, 10, 13, 13, 1, 2, 3, 1, 5, 14, 4, 3, 7, 1, 1, 10, 3, 4, 2, 4, 1, 4, 5, 7, 1, 2, 10, 1, 1, 2, 3, 4, 1, 2, 3, 4, 1, 3, 10, 3], \"Freq\": [0.9983018636703491, 0.9980805516242981, 0.9987869262695312, 0.13816142082214355, 0.8609638214111328, 0.905449390411377, 0.09268379956483841, 0.9982903599739075, 0.9990043640136719, 0.31688880920410156, 0.6808826923370361, 0.9923322200775146, 0.35912173986434937, 0.6399734020233154, 0.534610390663147, 0.1388598382472992, 0.04061650112271309, 0.285704106092453, 0.28652146458625793, 0.7121511697769165, 0.9842302799224854, 0.986632227897644, 0.9966908097267151, 0.3058047592639923, 0.693941593170166, 0.9981008172035217, 0.9949540495872498, 0.9161674380302429, 0.08249849081039429, 0.9989043474197388, 0.06855478882789612, 0.3066924810409546, 0.6206012964248657, 0.9951874017715454, 0.9964475035667419, 0.005193423014134169, 0.12211202085018158, 0.8724950551986694, 0.9914103150367737, 0.9547226428985596, 0.9989916086196899, 0.1175151988863945, 0.23379339277744293, 0.6469520926475525, 0.9973522424697876, 0.9901598691940308, 0.976754903793335, 0.02203693799674511, 0.997215747833252, 0.9999810457229614, 0.2990145683288574, 0.7005139589309692, 0.9846571683883667, 0.08898681402206421, 0.1500750631093979, 0.7604764699935913, 0.9924557209014893, 0.981438398361206, 0.9940608143806458, 0.013602295890450478, 0.08038956671953201, 0.4063005745410919, 0.49961233139038086, 0.9985489845275879, 0.9995729327201843, 0.9942976236343384, 0.9940375089645386, 0.9984737634658813, 0.8605387806892395, 0.36871337890625, 0.08010385930538177, 0.23736658692359924, 0.3127584755420685, 0.24092060327529907, 0.7555270195007324, 0.9971928000450134, 0.9909207224845886, 0.17698746919631958, 0.8189420104026794, 0.9953354597091675, 0.9901019334793091, 0.9964504837989807, 0.991422712802887, 0.7874957323074341, 0.1246868297457695, 0.08531203866004944, 0.9972050786018372, 0.610589861869812, 0.3889107406139374, 0.998058557510376, 0.9885467290878296, 0.045497313141822815, 0.5115531086921692, 0.133283793926239, 0.29077449440956116, 0.01866556517779827, 0.9925774335861206, 0.9870023727416992, 0.9995303750038147, 0.9994559288024902, 0.9902113676071167, 0.6735943555831909, 0.05117657408118248, 0.027663012966513634, 0.2462008148431778, 0.6561222076416016, 0.2845253050327301, 0.05896187201142311, 0.9971091747283936, 0.9923398494720459, 0.7668114900588989, 0.015880711376667023, 0.01985088922083378, 0.196807399392128, 0.9984821081161499, 0.8863243460655212, 0.11293487250804901, 0.9989818334579468, 0.999007523059845, 0.9975304007530212, 0.3555206060409546, 0.6432251334190369, 0.9960409998893738, 0.9994494318962097, 0.9982794523239136, 0.9967721104621887, 0.9948847889900208, 0.9945476651191711, 0.8580668568611145, 0.998600959777832, 0.9976230263710022, 0.9903759956359863, 0.007116176653653383, 0.4400910437107086, 0.5446099042892456, 0.008005698211491108, 0.9975187182426453, 0.9968406558036804, 0.9788610339164734, 0.9941442608833313, 0.9909908771514893, 0.978766143321991, 0.9862346649169922, 0.2294280081987381, 0.769693911075592, 0.9051690101623535, 0.9975278973579407, 0.9984078407287598, 0.9925860166549683, 0.9946102499961853, 0.9888637065887451, 0.8164007067680359, 0.9732183218002319, 0.997907280921936, 0.9966861009597778, 0.23559939861297607, 0.7615887522697449, 0.9842771887779236, 0.9961479902267456, 0.9942864775657654, 0.9941334128379822, 0.97999107837677, 0.2919375002384186, 0.24321328103542328, 0.196120023727417, 0.268696665763855, 0.695767879486084, 0.3035984933376312, 0.9745634198188782, 0.024300137534737587, 0.9974062442779541, 0.9829135537147522, 0.9983425736427307, 0.9975627064704895, 0.9899730682373047, 0.9931782484054565, 0.9810910820960999, 0.9920243620872498, 0.012674068100750446, 0.9857608675956726, 0.9587711095809937, 0.9633100032806396, 0.004774770699441433, 0.0310360100120306, 0.9901654720306396, 0.10547134280204773, 0.27631086111068726, 0.6163857579231262, 0.0012030951911583543, 0.993166983127594, 0.921083927154541, 0.07743626087903976, 0.9873055219650269, 0.8753133416175842, 0.5998626947402954, 0.3983389735221863, 0.9954707026481628, 0.9920738935470581, 0.9942044615745544, 0.9890903830528259, 0.8892869353294373, 0.10982158035039902, 0.9989095330238342, 0.9942322373390198, 0.9978150129318237, 0.9855453968048096, 0.9945105910301208, 0.9982554316520691, 0.9987049102783203, 0.9985429644584656, 0.9879406094551086, 0.9969175457954407, 0.9989209771156311, 0.9986118674278259, 0.9844467043876648, 0.012840609066188335, 0.0018343727570027113, 0.994413435459137, 0.9995453953742981, 0.684036374092102, 0.31506669521331787, 0.9976692795753479, 0.6047547459602356, 0.39301440119743347, 0.9978005290031433, 0.9978127479553223, 0.0012318675871938467, 0.9830003380775452, 0.8327798843383789, 0.166379913687706, 0.9931373596191406, 0.9967674016952515, 0.9987386465072632, 0.7373867630958557, 0.011469398625195026, 0.23703424632549286, 0.010035724379122257, 0.0028673496562987566, 0.9968640804290771, 0.016594689339399338, 0.979086697101593, 0.7606620192527771, 0.11094264686107635, 0.12749210000038147, 0.9991954565048218, 0.23605044186115265, 0.7629052996635437, 0.8579446077346802, 0.33523762226104736, 0.45134055614471436, 0.21323983371257782, 0.9997163414955139, 0.9954914450645447, 0.8978863954544067, 0.10151541978120804, 0.9897529482841492, 0.9923628568649292, 0.9985901117324829, 0.9908429980278015, 0.9967554211616516, 0.9930146336555481, 0.04072033613920212, 0.9588218927383423, 0.9933011531829834, 0.9940180778503418, 0.9987174868583679, 0.9971452951431274, 0.9986585378646851, 0.9871110320091248, 0.55253005027771, 0.9779302477836609, 0.020853731781244278, 0.99383944272995, 0.9988523125648499, 0.9997036457061768, 0.35953664779663086, 0.18723644316196442, 0.4358181655406952, 0.013602647930383682, 0.0037340600974857807, 0.9908413887023926, 0.09335125237703323, 0.9041241407394409, 0.9960684180259705, 0.6131108403205872, 0.06535550206899643, 0.3203299045562744, 0.001172296004369855, 0.9505243897438049, 0.9904847741127014, 0.4922204315662384, 0.37622225284576416, 0.13099414110183716, 0.993968665599823, 0.3672649562358856, 0.6295970678329468, 0.19432766735553741, 0.4831050932407379, 0.32134631276130676, 0.997543454170227, 0.9893394708633423, 0.9763956665992737, 0.5160016417503357, 0.45778608322143555, 0.02381546050310135, 0.9993700385093689, 0.3812619149684906, 0.42678573727607727, 0.1820952445268631, 0.9940133690834045, 0.9945465922355652, 0.9801217913627625, 0.9890072345733643, 0.13392336666584015, 0.5387864112854004, 0.32707613706588745, 0.9932767748832703, 0.9978083372116089, 0.9953025579452515, 0.44503700733184814, 0.31074777245521545, 0.19202104210853577, 0.05170762538909912, 0.00025100790662690997, 0.9739659428596497, 0.012451733462512493, 0.037628866732120514, 0.9497525691986084, 0.9980193972587585, 0.998969554901123, 0.24251218140125275, 0.11891781538724899, 0.49688273668289185, 0.1414654403924942, 0.7858923673629761, 0.21330595016479492, 0.9980897307395935, 0.9914353489875793, 0.9956890344619751, 0.9975255727767944, 0.9991415143013, 0.9977149367332458, 0.9665911793708801, 0.3044995367527008, 0.6746532320976257, 0.020375432446599007, 0.9974192380905151, 0.07903964817523956, 0.04115889593958855, 0.41632404923439026, 0.46331074833869934, 0.08194059878587723, 0.27912670373916626, 0.6386080384254456, 0.9985291361808777, 0.21179628372192383, 0.7557622790336609, 0.03199800103902817, 0.9970278143882751, 0.9926090836524963, 0.8249602913856506, 0.11736448109149933, 0.056977778673172, 0.9946095943450928, 0.9984802007675171, 0.9989796876907349, 0.9931901693344116, 0.07167475670576096, 0.9019992351531982, 0.025361835956573486, 0.9959046244621277, 0.990848183631897, 0.9997182488441467, 0.9968655109405518, 0.9982742667198181, 0.9933959245681763, 0.992643415927887, 0.9579139351844788, 0.040975406765937805, 0.9924260973930359, 0.9945353269577026, 0.9472416043281555, 0.014209022745490074, 0.9795867800712585, 0.005850774236023426, 0.9989017844200134, 0.9992027878761292, 0.9901773929595947, 0.9983013272285461, 0.9971445798873901, 0.9982973337173462, 0.9982056021690369, 0.9907223582267761, 0.9896048903465271, 0.9985533356666565, 0.5662676692008972, 0.4310688078403473, 0.9899584650993347, 0.9993499517440796, 0.9965106844902039, 0.011089552193880081, 0.9869701862335205, 0.40995803475379944, 0.5892652869224548, 0.60360187292099, 0.3880297839641571, 0.0199049711227417, 0.35258424282073975, 0.1683681756258011, 0.45895540714263916, 0.38104870915412903, 0.10703615099191666, 0.5094920992851257, 0.9414135813713074, 0.05758093297481537, 0.2162412405014038, 0.7735826969146729, 0.009500138461589813, 0.9973040819168091, 0.895531177520752, 0.10423579812049866, 0.9818729162216187, 0.9865295886993408, 0.9980376362800598, 0.9899033308029175, 0.9614467024803162, 0.03770379349589348, 0.027199266478419304, 0.29029035568237305, 0.537061870098114, 0.14489790797233582, 0.9925649762153625, 0.006900799460709095, 0.03295149281620979, 0.9657321572303772, 0.9978237748146057, 0.9421191811561584, 0.9991025328636169, 0.22051633894443512, 0.7783701419830322, 0.12050334364175797, 0.06915844231843948, 0.8089441657066345, 0.9855586290359497, 0.012883119285106659, 0.002139659132808447, 0.003955127205699682, 0.9938392639160156, 0.04925919324159622, 0.9504497647285461, 0.9793278574943542, 0.019649943336844444, 0.9962722659111023, 0.9988778829574585, 0.7364693880081177, 0.050068993121385574, 0.21256563067436218, 0.18836940824985504, 0.3273855149745941, 0.483972430229187, 0.05930711328983307, 0.9400978684425354, 0.9991983771324158, 0.918541431427002, 0.07967854291200638, 0.9921587109565735, 0.19719471037387848, 0.5409214496612549, 0.2603282034397125, 0.39985212683677673, 0.5999991297721863, 0.541786789894104, 0.2883433997631073, 0.16741688549518585, 0.002446862170472741, 0.9369012713432312, 0.06272558867931366, 0.321983277797699, 0.560276985168457, 0.025028660893440247, 0.09229318797588348, 0.9978231191635132, 0.9934666752815247, 0.9850773811340332, 0.9990038871765137, 0.9818919897079468, 0.5788328051567078, 0.30746570229530334, 0.007526359520852566, 0.10606591403484344, 0.06237158179283142, 0.07512940466403961, 0.8618618845939636, 0.21012316644191742, 0.7897194027900696, 0.5617477893829346, 0.43691492080688477, 0.9910597801208496, 0.4936368465423584, 0.23305748403072357, 0.02693629264831543, 0.24594005942344666, 0.9969035387039185, 0.04346805438399315, 0.9541237950325012, 0.994645893573761, 0.994832456111908, 0.9905810952186584, 0.9013988375663757, 0.095893494784832, 0.9986774921417236, 0.9898490309715271, 0.9981358647346497, 0.9946205019950867, 0.9963693618774414, 0.9974427223205566, 0.982003390789032, 0.9971217513084412, 0.9982469081878662, 0.9934664368629456, 0.788331925868988, 0.03313479200005531, 0.14551696181297302, 0.032582543790340424, 0.993661642074585, 0.333801805973053, 0.6637668013572693, 0.9899069666862488, 0.29079127311706543, 0.5061835050582886, 0.20270830392837524, 0.20611457526683807, 0.793257474899292, 0.005850234068930149, 0.9916146397590637, 0.47280603647232056, 0.07729459553956985, 0.4494306445121765, 0.9979273676872253, 0.8786219954490662, 0.12085393816232681, 0.9997864961624146, 0.9868627190589905, 0.9883437752723694, 0.9966331124305725, 0.992459237575531, 0.9978054165840149, 0.561478853225708, 0.025834916159510612, 0.06372612714767456, 0.3489436209201813, 0.3742316663265228, 0.6237194538116455, 0.9357480406761169, 0.9974992871284485, 0.9857662916183472, 0.9944597482681274, 0.021032502874732018, 0.9774578809738159, 0.99531090259552, 0.9953576922416687, 0.9965524673461914, 0.9972490072250366, 0.01504524890333414, 0.03009049780666828, 0.9546101093292236, 0.9901629686355591, 0.9945983290672302, 0.9966103434562683, 0.9968807101249695, 0.5143459439277649, 0.48487821221351624, 0.9971190690994263, 0.9986851811408997, 0.9863796234130859, 0.9944350123405457, 0.9959985613822937, 0.9986786842346191, 0.8581611514091492, 0.14105679094791412, 0.9882292747497559, 0.9284842014312744, 0.0701100304722786, 0.9943543076515198, 0.9894186854362488, 0.9911481142044067, 0.9794917106628418, 0.020414583384990692, 0.13516074419021606, 0.8619267344474792, 0.9955025315284729, 0.9700639843940735, 0.999142587184906, 0.9984704852104187, 0.9974631667137146, 0.9028199911117554, 0.9932374358177185, 0.8150646090507507, 0.1229647621512413, 0.0423043929040432, 0.0045124683529138565, 0.014665522612631321, 0.9975822567939758, 0.0016709920018911362, 0.9955385327339172, 0.9919770359992981, 0.9993467330932617, 0.9990821480751038, 0.9970389008522034, 0.3816390931606293, 0.4132790267467499, 0.20495951175689697, 0.990932047367096, 0.996614933013916, 0.45175132155418396, 0.5455576181411743, 0.9880216121673584, 0.9979269504547119, 0.9918758869171143, 0.1893390417098999, 0.7292281985282898, 0.08102535456418991, 0.9994374513626099, 0.9911119341850281, 0.9945323467254639, 0.9968636631965637, 0.7797464728355408, 0.21961666643619537, 0.9974043369293213, 0.9947934746742249, 0.9984033703804016, 0.9968559741973877, 0.708183765411377, 0.2910488247871399, 0.9871030449867249, 0.4869130253791809, 0.374751478433609, 0.13802467286586761, 0.9987408518791199, 0.9502435922622681, 0.04925043135881424, 0.9925460815429688, 0.4748695492744446, 0.21105313301086426, 0.3117830455303192, 0.921000599861145, 0.07765603810548782, 0.9986254572868347, 0.005715135019272566, 0.296147882938385, 0.6868553161621094, 0.011430270038545132, 0.999301552772522, 0.9986085891723633, 0.6568251252174377, 0.23475879430770874, 0.10489223152399063, 0.9970575571060181, 0.9816368818283081, 0.10501458495855331, 0.4844006299972534, 0.4100569486618042, 0.9900517463684082, 0.9951704144477844, 0.9648059010505676, 0.02074851468205452, 0.01037425734102726, 0.9981675148010254, 0.9698053002357483, 0.9961112141609192, 0.43243661522865295, 0.46879005432128906, 0.0980696976184845, 0.8353943228721619, 0.1581663191318512, 0.005648797377943993, 0.08199428766965866, 0.1987844556570053, 0.4688832759857178, 0.2501170039176941, 0.9918800592422485, 0.00030063328449614346, 0.9993050694465637, 0.25545045733451843, 0.7325533032417297, 0.011004019528627396, 0.997124195098877, 0.9952265620231628, 0.997413694858551, 0.9923716187477112, 0.9928776621818542, 0.992202877998352, 0.9780719876289368, 0.01942020282149315, 0.9929753541946411, 0.9984853267669678, 0.9972442388534546, 0.1116437017917633, 0.14885827898979187, 0.7394372820854187, 0.9983182549476624, 0.9642106294631958, 0.03534191474318504, 0.8640098571777344, 0.09348542243242264, 0.041630227118730545, 0.9972831010818481, 0.9925099611282349, 0.9907019138336182, 0.9947689175605774, 0.00366397388279438, 0.9875576496124268, 0.9969272017478943, 0.018188461661338806, 0.6339558959007263, 0.2872016727924347, 0.06013926491141319, 0.9975013732910156, 0.7973479628562927, 0.1987454742193222, 0.0688045471906662, 0.9262151122093201, 0.9896824955940247, 0.9591686129570007, 0.9952783584594727, 0.9732382893562317, 0.9927234053611755, 0.9845048189163208, 0.5334507822990417, 0.16190335154533386, 0.3044336438179016, 0.9907838702201843, 0.08492353558540344, 0.9146972894668579, 0.9987025856971741, 0.9960278272628784, 0.7455376982688904, 0.25426608324050903, 0.9972103238105774, 0.992693305015564, 0.9849333763122559, 0.9983071684837341, 0.9985554814338684, 0.9935899972915649, 0.994767963886261, 0.9969040155410767, 0.3014909327030182, 0.3980851173400879, 0.2985638380050659, 0.9979738593101501, 0.9971778988838196, 0.9988151788711548, 0.23622459173202515, 0.3417526185512543, 0.3439099192619324, 0.0762246772646904, 0.0016179766971617937, 0.13895420730113983, 0.743367075920105, 0.1169341430068016, 0.24819883704185486, 0.7512916326522827, 0.999015748500824, 0.9977626800537109, 0.998027503490448, 0.9950082302093506, 0.4856157600879669, 0.04051017761230469, 0.059246134012937546, 0.4142165780067444, 0.998128354549408, 0.03337017074227333, 0.08580900728702545, 0.879542350769043, 0.986155092716217, 0.9980800151824951, 0.9929313063621521, 0.9593827724456787, 0.9963383078575134, 0.9982190728187561, 0.9986198544502258, 0.23895451426506042, 0.5628386735916138, 0.1972094476222992, 0.9910569787025452, 0.9949091672897339, 0.9986464381217957, 0.9993062019348145, 0.9382917881011963, 0.06120806187391281, 0.9913039803504944, 0.9976884126663208, 0.9987054467201233, 0.9745473265647888, 0.019559981301426888, 0.005752936005592346, 0.9986236095428467, 0.10249575227499008, 0.03627658635377884, 0.719773530960083, 0.12034613639116287, 0.02072947844862938, 0.06072987616062164, 0.9379392266273499, 0.9872956275939941, 0.9986358284950256, 0.9883679747581482, 0.9966186881065369, 0.9980902671813965, 0.9801470637321472, 0.9977856874465942, 0.9018936157226562, 0.15799789130687714, 0.8405901193618774, 0.22858159244060516, 0.03874264284968376, 0.6954304575920105, 0.03680551052093506, 0.9935484528541565, 0.07386652380228043, 0.8703587055206299, 0.022793099284172058, 0.01983843743801117, 0.013084926642477512, 0.988700807094574, 0.9965609312057495, 0.4031634032726288, 0.1297670155763626, 0.46669918298721313, 0.998208224773407, 0.9938578009605408, 0.9666242599487305, 0.9892562031745911, 0.9985987544059753, 0.9833351969718933, 0.998714804649353, 0.9858875274658203, 0.9964500069618225, 0.9903087019920349, 0.20652423799037933, 0.7931647300720215, 0.4799397885799408, 0.0752144455909729, 0.44054174423217773, 0.9916152358055115, 0.9903870820999146, 0.09004583954811096, 0.908176600933075, 0.959023118019104, 0.9998155832290649, 0.41950395703315735, 0.21263137459754944, 0.36745357513427734, 0.9990501403808594, 0.03569233790040016, 0.9577444195747375, 0.9990541934967041, 0.9905715584754944, 0.999221920967102, 0.9847224950790405, 0.9992652535438538, 0.9850586652755737, 0.003199406201019883, 0.48247045278549194, 0.32921889424324036, 0.18460573256015778, 0.9897559881210327, 0.9928178787231445, 0.7824370265007019, 0.2160828560590744, 0.999416708946228, 0.024241002276539803, 0.972064197063446, 0.40486449003219604, 0.4465722143650055, 0.1483965516090393, 0.0029399050399661064, 0.5035637617111206, 0.4932040572166443, 0.991735577583313, 0.9904417991638184, 0.9878574013710022, 0.00870358943939209, 0.934238612651825, 0.9934025406837463, 0.9929385781288147, 0.6423240303993225, 0.06590435653924942, 0.29153749346733093, 0.9926093220710754, 0.983310341835022, 0.9960829615592957, 0.9979515075683594, 0.8965240120887756, 0.10183978825807571, 0.9981328248977661, 0.9961123466491699, 0.9930129051208496, 0.9789078235626221, 0.9925556778907776, 0.9817085862159729, 0.0174415223300457, 0.999010443687439, 0.11130153387784958, 0.274150550365448, 0.039494093507528305, 0.5490704774856567, 0.026158424094319344, 0.9962692856788635, 0.995823323726654, 0.9534510970115662, 0.8208553791046143, 0.16417108476161957, 0.006840461399406195, 0.11699377000331879, 0.17087247967720032, 0.680411159992218, 0.03155753016471863, 0.9925308227539062, 0.00750360544770956, 0.9915478229522705, 0.6623011231422424, 0.317904531955719, 0.9980295300483704, 0.11300479620695114, 0.8854853510856628, 0.9897372722625732, 0.9860833287239075, 0.9376375079154968, 0.05860234424471855, 0.9973970651626587, 0.23485223948955536, 0.1773955225944519, 0.5135927200317383, 0.07404043525457382, 0.9986118078231812, 0.9956897497177124, 0.9920116066932678, 0.9917238354682922, 0.0010268277255818248, 0.5791308283805847, 0.4199725389480591, 0.9979968667030334, 0.9853707551956177, 0.9196804165840149, 0.9866501092910767, 0.6536509990692139, 0.3437038064002991, 0.1367224007844925, 0.20278187096118927, 0.12774567306041718, 0.5323887467384338, 0.9987302422523499, 0.9931499361991882, 0.997149646282196, 0.5015810132026672, 0.3518553376197815, 0.14473482966423035, 0.0014972568023949862, 0.9978814125061035, 0.9803549647331238, 0.4817855656147003, 0.11377672106027603, 0.40410351753234863, 0.4453842341899872, 0.4522362947463989, 0.09935494512319565, 0.9947138428688049, 0.9989464282989502, 0.9993509650230408, 0.9980384111404419, 0.9988560080528259, 0.9952136874198914, 0.06448487192392349, 0.93437260389328, 0.9946369528770447, 0.00455211428925395, 0.6336888074874878, 0.2658802270889282, 0.07456503808498383, 0.025767125189304352, 0.04054851457476616, 0.9507927298545837, 0.007690235041081905, 0.9985016584396362, 0.3457584083080292, 0.31532278656959534, 0.08185041695833206, 0.25699442625045776, 0.0012441002763807774, 0.14765915274620056, 0.0015551253454759717, 0.8494872450828552, 0.3811112344264984, 0.6095206141471863, 0.009007694199681282, 0.9920832514762878], \"Term\": [\"accept\", \"access\", \"action\", \"address\", \"address\", \"advance\", \"advance\", \"agency\", \"agree\", \"aim\", \"aim\", \"alarm\", \"allow\", \"allow\", \"also\", \"also\", \"also\", \"also\", \"amount\", \"amount\", \"amp\", \"anymore\", \"apple\", \"application\", \"application\", \"appreciate\", \"arab\", \"area\", \"area\", \"argument\", \"arm\", \"arm\", \"arm\", \"armenian\", \"around\", \"article\", \"article\", \"article\", \"assist\", \"atf\", \"atheist\", \"attack\", \"attack\", \"attack\", \"authority\", \"auto\", \"available\", \"available\", \"average\", \"ax\", \"back\", \"back\", \"backup\", \"bad\", \"bad\", \"bad\", \"bank\", \"batf\", \"battery\", \"be\", \"be\", \"be\", \"be\", \"belief\", \"believe\", \"belt\", \"benefit\", \"bike\", \"birthday\", \"bit\", \"bit\", \"bit\", \"bit\", \"block\", \"block\", \"board\", \"bolt\", \"bomb\", \"bomb\", \"boy\", \"brave\", \"brother\", \"bug\", \"building\", \"building\", \"building\", \"bus\", \"buy\", \"buy\", \"ca\", \"camera\", \"can\", \"can\", \"can\", \"can\", \"can\", \"cap\", \"captain\", \"car\", \"card\", \"careful\", \"carry\", \"carry\", \"carry\", \"carry\", \"case\", \"case\", \"case\", \"cd\", \"challenge\", \"change\", \"change\", \"change\", \"change\", \"character\", \"child\", \"child\", \"chip\", \"christian\", \"church\", \"citizen\", \"citizen\", \"civilian\", \"claim\", \"client\", \"clipper\", \"clock\", \"co\", \"cock\", \"color\", \"com\", \"combination\", \"come\", \"come\", \"come\", \"come\", \"commercial\", \"community\", \"competition\", \"compile\", \"comprehensive\", \"compress\", \"compression\", \"computer\", \"computer\", \"conceivable\", \"conclusion\", \"condition\", \"conference\", \"configuration\", \"confirm\", \"confrontation\", \"construction\", \"contain\", \"controller\", \"convert\", \"convert\", \"conviction\", \"cop\", \"corner\", \"corporation\", \"correction\", \"could\", \"could\", \"could\", \"could\", \"course\", \"course\", \"cover\", \"cover\", \"cpu\", \"crew\", \"crime\", \"criminal\", \"cross\", \"cryptography\", \"cult\", \"curious\", \"currently\", \"currently\", \"curve\", \"cut\", \"cut\", \"cut\", \"cylinder\", \"d\", \"d\", \"d\", \"d\", \"dare\", \"datum\", \"datum\", \"daughter\", \"dealing\", \"death\", \"death\", \"decent\", \"default\", \"demand\", \"depth\", \"device\", \"device\", \"die\", \"direct\", \"directory\", \"disarm\", \"discount\", \"discussion\", \"disk\", \"display\", \"distant\", \"distribution\", \"distribution_usa\", \"division\", \"do\", \"do\", \"do\", \"door\", \"drive\", \"driver\", \"driver\", \"drug\", \"earth\", \"earth\", \"eat\", \"effect\", \"effect\", \"electrical\", \"email\", \"email\", \"enable\", \"encrypt\", \"encryption\", \"end\", \"end\", \"end\", \"end\", \"end\", \"engine\", \"engineering\", \"engineering\", \"enough\", \"enough\", \"enough\", \"entry\", \"error\", \"error\", \"esdi\", \"even\", \"even\", \"even\", \"evidence\", \"excuse\", \"exist\", \"exist\", \"expand\", \"expansion\", \"explain\", \"extension\", \"external\", \"facility\", \"fact\", \"fact\", \"factory\", \"fairly\", \"faith\", \"family\", \"fan\", \"fancy\", \"fasst\", \"fast\", \"fast\", \"federal\", \"field\", \"file\", \"find\", \"find\", \"find\", \"find\", \"find\", \"finish\", \"fire\", \"fire\", \"firearm\", \"first\", \"first\", \"first\", \"first\", \"fitting\", \"flyer\", \"follow\", \"follow\", \"follow\", \"font\", \"foot\", \"foot\", \"force\", \"force\", \"force\", \"format\", \"frame\", \"frequently_asked\", \"front\", \"front\", \"front\", \"game\", \"gas\", \"gas\", \"gas\", \"gateway\", \"gear\", \"generic\", \"genocide\", \"get\", \"get\", \"get\", \"giant\", \"gift\", \"girl\", \"give\", \"give\", \"give\", \"give\", \"give\", \"glass\", \"go\", \"go\", \"go\", \"goal\", \"god\", \"good\", \"good\", \"good\", \"good\", \"government\", \"government\", \"graphic\", \"greatly_appreciate\", \"greek\", \"ground\", \"gun\", \"guy\", \"hammer\", \"happen\", \"happen\", \"happen\", \"hardware\", \"have\", \"have\", \"have\", \"have\", \"hear\", \"hear\", \"hear\", \"hell\", \"help\", \"help\", \"help\", \"here\", \"hi\", \"high\", \"high\", \"high\", \"highly\", \"hit\", \"hockey\", \"hole\", \"home\", \"home\", \"home\", \"hook\", \"hopefully\", \"host\", \"hour\", \"human\", \"ice\", \"ide\", \"image\", \"image\", \"imaging\", \"implementation\", \"incline\", \"include\", \"include\", \"include\", \"increase\", \"information\", \"inhabitant\", \"input\", \"insurance\", \"internal\", \"internet\", \"invasion\", \"investigation\", \"israeli\", \"jewish\", \"jewish\", \"joke\", \"key\", \"keyword\", \"kid\", \"kid\", \"kill\", \"kill\", \"knock\", \"knock\", \"know\", \"know\", \"know\", \"know\", \"land\", \"land\", \"land\", \"large\", \"large\", \"last\", \"last\", \"last\", \"launch\", \"law\", \"law\", \"leadership\", \"leafs\", \"lebanese\", \"left\", \"less\", \"less\", \"let\", \"let\", \"let\", \"let\", \"level\", \"level\", \"library\", \"library\", \"license\", \"licensing\", \"life\", \"light\", \"light\", \"like\", \"like\", \"like\", \"likely\", \"likely\", \"line\", \"line\", \"line\", \"list\", \"list\", \"live\", \"live\", \"load\", \"local\", \"long\", \"long\", \"long\", \"look\", \"look\", \"look\", \"lose\", \"lose\", \"love\", \"low\", \"low\", \"lunar\", \"machine\", \"machine\", \"machine\", \"mail\", \"mail\", \"make\", \"make\", \"make\", \"make\", \"man\", \"man\", \"many\", \"many\", \"many\", \"many\", \"market\", \"mass\", \"massacre\", \"matter\", \"maximum\", \"may\", \"may\", \"may\", \"may\", \"maybe\", \"maybe\", \"maybe\", \"mean\", \"mean\", \"memory\", \"memory\", \"mercy\", \"message\", \"message\", \"message\", \"message\", \"mile\", \"military\", \"military\", \"mirror\", \"mission\", \"mix\", \"mode\", \"mode\", \"model\", \"modem\", \"monitor\", \"monthly\", \"moon\", \"motif\", \"motion\", \"mount\", \"mouse\", \"mph\", \"much\", \"much\", \"much\", \"much\", \"multiple\", \"murder\", \"murder\", \"neat\", \"need\", \"need\", \"need\", \"net\", \"net\", \"network\", \"network\", \"new\", \"new\", \"new\", \"news\", \"next\", \"next\", \"nntp_poste\", \"nntp_posting\", \"noise\", \"normal\", \"northern\", \"notice\", \"number\", \"number\", \"number\", \"number\", \"object\", \"object\", \"observatory\", \"obtain\", \"occupation\", \"occupy\", \"offer\", \"offer\", \"office\", \"oil\", \"operate\", \"orbit\", \"organization\", \"organization\", \"organization\", \"origin\", \"originator\", \"output\", \"own\", \"owner\", \"owner\", \"pack\", \"package\", \"paint\", \"park\", \"past\", \"patient\", \"pay\", \"pay\", \"payment\", \"pc\", \"pc\", \"pen\", \"penalty\", \"penguin\", \"people\", \"people\", \"performance\", \"performance\", \"period\", \"peripheral\", \"person\", \"pick\", \"picture\", \"pistol\", \"pitch\", \"place\", \"place\", \"place\", \"place\", \"place\", \"plan\", \"plan\", \"plane\", \"planetary\", \"play\", \"player\", \"playoff\", \"point\", \"point\", \"point\", \"pointer\", \"police\", \"policy\", \"policy\", \"pop\", \"port\", \"positively\", \"post\", \"post\", \"post\", \"power\", \"predict\", \"prefer\", \"press\", \"price\", \"price\", \"printer\", \"privacy\", \"private\", \"pro\", \"probably\", \"probably\", \"probe\", \"problem\", \"problem\", \"problem\", \"product\", \"program\", \"program\", \"prohibit\", \"project\", \"project\", \"project\", \"protect\", \"protect\", \"prove\", \"provide\", \"provide\", \"provide\", \"provide\", \"public\", \"publish\", \"pull\", \"pull\", \"pull\", \"purchase\", \"quadra\", \"question\", \"question\", \"question\", \"radiation\", \"ram\", \"range\", \"range\", \"range\", \"rate\", \"ratio\", \"rational\", \"read\", \"read\", \"read\", \"real\", \"real\", \"real\", \"really\", \"really\", \"really\", \"really\", \"rear\", \"reason\", \"reason\", \"receive\", \"receive\", \"receive\", \"recommend\", \"red\", \"reduce\", \"reflect\", \"register\", \"regulation\", \"release\", \"release\", \"reliable\", \"religion\", \"religious\", \"remember\", \"remember\", \"remember\", \"replace\", \"reply\", \"reply\", \"report\", \"report\", \"report\", \"request\", \"responce\", \"restrict\", \"result\", \"result\", \"revolver\", \"ride\", \"right\", \"right\", \"right\", \"right\", \"risk\", \"road\", \"road\", \"rocket\", \"rocket\", \"role\", \"roman\", \"room\", \"rotate\", \"routine\", \"rumor\", \"run\", \"run\", \"run\", \"russian\", \"s\", \"s\", \"sale\", \"satellite\", \"say\", \"say\", \"sc\", \"schedule\", \"scope\", \"score\", \"screen\", \"screw\", \"scripture\", \"scsi\", \"search\", \"search\", \"search\", \"season\", \"secure\", \"security\", \"see\", \"see\", \"see\", \"see\", \"see\", \"sell\", \"sell\", \"sell\", \"send\", \"send\", \"sense\", \"serious\", \"server\", \"session\", \"set\", \"set\", \"set\", \"set\", \"shall\", \"shoot\", \"shoot\", \"shoot\", \"shop\", \"short\", \"shuttle\", \"sister\", \"sit\", \"site\", \"situation\", \"size\", \"size\", \"size\", \"slaughter\", \"slight\", \"slow\", \"small\", \"software\", \"software\", \"solar\", \"soldier\", \"solution\", \"sometimes\", \"sometimes\", \"sometimes\", \"soon\", \"source\", \"source\", \"source\", \"source\", \"source\", \"space\", \"space\", \"spacecraft\", \"speak\", \"specification\", \"specify\", \"speed\", \"spell\", \"spend\", \"stall\", \"standard\", \"standard\", \"start\", \"start\", \"start\", \"start\", \"stat\", \"state\", \"state\", \"state\", \"state\", \"state\", \"statute\", \"steal\", \"still\", \"still\", \"still\", \"story\", \"stream\", \"stroke\", \"stuck\", \"study\", \"suck\", \"suggest\", \"suitable\", \"sun\", \"super\", \"support\", \"support\", \"surface\", \"surface\", \"surface\", \"survive\", \"suspension\", \"switch\", \"switch\", \"synchronous\", \"system\", \"take\", \"take\", \"take\", \"talk\", \"tank\", \"tank\", \"tape\", \"task\", \"team\", \"tear\", \"technology\", \"telescope\", \"tell\", \"tell\", \"tell\", \"tell\", \"terminal\", \"terrorism\", \"test\", \"test\", \"thank\", \"there\", \"there\", \"thing\", \"thing\", \"thing\", \"think\", \"think\", \"think\", \"thinking\", \"threat\", \"throw\", \"throw\", \"thunder\", \"ticket\", \"tight\", \"time\", \"time\", \"time\", \"timing\", \"tip\", \"tire\", \"tool\", \"top\", \"top\", \"trade\", \"transfer\", \"trick\", \"trigger\", \"troop\", \"true\", \"true\", \"truth\", \"try\", \"try\", \"try\", \"try\", \"try\", \"turk\", \"turkish\", \"turning\", \"twice\", \"twice\", \"twice\", \"type\", \"type\", \"type\", \"type\", \"unable\", \"understand\", \"understand\", \"unique\", \"unique\", \"unit\", \"university\", \"university\", \"unlikely\", \"up\", \"update\", \"update\", \"upgrade\", \"use\", \"use\", \"use\", \"use\", \"usually\", \"utility\", \"uunet\", \"valve\", \"version\", \"version\", \"version\", \"village\", \"vision\", \"vitamin\", \"volt\", \"vote\", \"vote\", \"want\", \"want\", \"want\", \"want\", \"war\", \"warrant\", \"watch\", \"way\", \"way\", \"way\", \"way\", \"weapon\", \"weeks_ago\", \"well\", \"well\", \"well\", \"wide\", \"wide\", \"wide\", \"widget\", \"win\", \"window\", \"wing\", \"wire\", \"withdraw\", \"wonder\", \"wonder\", \"word\", \"word\", \"work\", \"work\", \"work\", \"work\", \"world\", \"world\", \"world\", \"worth\", \"would\", \"would\", \"would\", \"would\", \"write\", \"write\", \"write\", \"write\", \"year\", \"year\", \"year\", \"yesterday\"]}, \"R\": 30, \"lambda.step\": 0.01, \"plot.opts\": {\"xlab\": \"PC1\", \"ylab\": \"PC2\"}, \"topic.order\": [10, 2, 11, 5, 7, 4, 1, 14, 3, 15, 12, 9, 13, 8, 6]};\n",
       "\n",
       "function LDAvis_load_lib(url, callback){\n",
       "  var s = document.createElement('script');\n",
       "  s.src = url;\n",
       "  s.async = true;\n",
       "  s.onreadystatechange = s.onload = callback;\n",
       "  s.onerror = function(){console.warn(\"failed to load library \" + url);};\n",
       "  document.getElementsByTagName(\"head\")[0].appendChild(s);\n",
       "}\n",
       "\n",
       "if(typeof(LDAvis) !== \"undefined\"){\n",
       "   // already loaded: just create the visualization\n",
       "   !function(LDAvis){\n",
       "       new LDAvis(\"#\" + \"ldavis_el1080826200069015683323645320\", ldavis_el1080826200069015683323645320_data);\n",
       "   }(LDAvis);\n",
       "}else if(typeof define === \"function\" && define.amd){\n",
       "   // require.js is available: use it to load d3/LDAvis\n",
       "   require.config({paths: {d3: \"https://cdnjs.cloudflare.com/ajax/libs/d3/3.5.5/d3.min\"}});\n",
       "   require([\"d3\"], function(d3){\n",
       "      window.d3 = d3;\n",
       "      LDAvis_load_lib(\"https://cdn.rawgit.com/bmabey/pyLDAvis/files/ldavis.v1.0.0.js\", function(){\n",
       "        new LDAvis(\"#\" + \"ldavis_el1080826200069015683323645320\", ldavis_el1080826200069015683323645320_data);\n",
       "      });\n",
       "    });\n",
       "}else{\n",
       "    // require.js not available: dynamically load d3 & LDAvis\n",
       "    LDAvis_load_lib(\"https://cdnjs.cloudflare.com/ajax/libs/d3/3.5.5/d3.min.js\", function(){\n",
       "         LDAvis_load_lib(\"https://cdn.rawgit.com/bmabey/pyLDAvis/files/ldavis.v1.0.0.js\", function(){\n",
       "                 new LDAvis(\"#\" + \"ldavis_el1080826200069015683323645320\", ldavis_el1080826200069015683323645320_data);\n",
       "            })\n",
       "         });\n",
       "}\n",
       "</script>"
      ],
      "text/plain": [
       "PreparedData(topic_coordinates=              x         y  topics  cluster       Freq\n",
       "topic                                                \n",
       "9      0.309475  0.051797       1        1  23.909279\n",
       "1      0.307762  0.097903       2        1  22.052406\n",
       "10     0.282471  0.182284       3        1  12.228545\n",
       "4      0.243363 -0.063756       4        1  12.143528\n",
       "6      0.154776 -0.301398       5        1  11.311726\n",
       "3     -0.114834  0.009347       6        1   4.809526\n",
       "0      0.006448 -0.252428       7        1   3.730043\n",
       "13    -0.097551 -0.052133       8        1   2.177635\n",
       "2     -0.092935  0.066029       9        1   2.112161\n",
       "14    -0.070201  0.153251      10        1   1.788417\n",
       "11    -0.162326 -0.008775      11        1   1.017305\n",
       "8     -0.184832  0.035449      12        1   0.865939\n",
       "12    -0.186712  0.048730      13        1   0.794016\n",
       "7     -0.193599  0.004478      14        1   0.534772\n",
       "5     -0.201305  0.029222      15        1   0.524699, topic_info=             Term          Freq         Total Category  logprob  loglift\n",
       "3718           ax  39788.000000  39788.000000  Default  30.0000  30.0000\n",
       "18           line  15423.000000  15423.000000  Default  29.0000  29.0000\n",
       "197         write  12860.000000  12860.000000  Default  28.0000  28.0000\n",
       "112            go   7308.000000   7308.000000  Default  27.0000  27.0000\n",
       "177       article   7509.000000   7509.000000  Default  26.0000  26.0000\n",
       "...           ...           ...           ...      ...      ...      ...\n",
       "216   observatory     25.458292     26.716593  Topic15  -5.4839   5.2019\n",
       "1361      incline     19.855602     21.113937  Topic15  -5.7325   5.1887\n",
       "1381      vitamin     13.964377     15.222679  Topic15  -6.0844   5.1638\n",
       "1992  conceivable     13.103653     14.361959  Topic15  -6.1481   5.1584\n",
       "2171       object    234.542831    376.771973  Topic15  -3.2633   4.7761\n",
       "\n",
       "[718 rows x 6 columns], token_table=      Topic      Freq       Term\n",
       "term                            \n",
       "1227      2  0.998302     accept\n",
       "80        5  0.998081     access\n",
       "1594      2  0.998787     action\n",
       "175       4  0.138161    address\n",
       "175       5  0.860964    address\n",
       "...     ...       ...        ...\n",
       "197       4  0.849487      write\n",
       "39        1  0.381111       year\n",
       "39        3  0.609521       year\n",
       "39       10  0.009008       year\n",
       "722       3  0.992083  yesterday\n",
       "\n",
       "[997 rows x 3 columns], R=30, lambda_step=0.01, plot_opts={'xlab': 'PC1', 'ylab': 'PC2'}, topic_order=[10, 2, 11, 5, 7, 4, 1, 14, 3, 15, 12, 9, 13, 8, 6])"
      ]
     },
     "execution_count": 15,
     "metadata": {},
     "output_type": "execute_result"
    }
   ],
   "source": [
    "# Visualize the tpoics-keywords\n",
    "\n",
    "# Visualize the topics\n",
    "pyLDAvis.enable_notebook()\n",
    "vis = pyLDAvis.gensim.prepare(lda_model, corpus, id2word)\n",
    "vis"
   ]
  },
  {
   "cell_type": "code",
   "execution_count": 36,
   "metadata": {},
   "outputs": [],
   "source": [
    "# !wget http://mallet.cs.umass.edu/dist/mallet-2.0.8.zip\n",
    "# !unzip mallet-2.0.8.zip\n",
    "# mallet_path = 'C:\\\\Users\\\\rmurugan\\\\nlpmallet-2.0.8\\\\bin\\\\mallet\\\\mallet.bat' # update this path\n",
    "# ldamallet = gensim.models.wrappers.LdaMallet(mallet_path, corpus=corpus, num_topics=20, id2word=id2word)"
   ]
  },
  {
   "cell_type": "code",
   "execution_count": 37,
   "metadata": {},
   "outputs": [
    {
     "name": "stdout",
     "output_type": "stream",
     "text": [
      " Volume in drive C is OS\n",
      " Volume Serial Number is 2E2C-3EA4\n",
      "\n",
      " Directory of C:\\Users\\rmurugan\\nlp\n",
      "\n",
      "2020-10-19  10:16 PM    <DIR>          .\n",
      "2020-10-19  10:16 PM    <DIR>          ..\n",
      "2020-10-19  09:13 PM    <DIR>          .ipynb_checkpoints\n",
      "2020-10-19  10:07 PM    <DIR>          mallet-2.0.8\n",
      "2020-10-19  10:16 PM           149,008 topicModelling.ipynb\n",
      "               1 File(s)        149,008 bytes\n",
      "               4 Dir(s)  170,643,214,336 bytes free\n"
     ]
    }
   ],
   "source": [
    "!dir"
   ]
  },
  {
   "cell_type": "code",
   "execution_count": 38,
   "metadata": {},
   "outputs": [],
   "source": [
    "# !dir mallet-2.0.8\\\\bin\n",
    "# C:\\\\Users\\\\rmurugan\\\\nlpmallet-2.0.8\\\\bin\\\\mallet"
   ]
  },
  {
   "cell_type": "code",
   "execution_count": 40,
   "metadata": {},
   "outputs": [
    {
     "name": "stdout",
     "output_type": "stream",
     "text": [
      "[(7,\n",
      "  [('chip', 0.1590592),\n",
      "   ('bit', 0.08502612),\n",
      "   ('bus', 0.052444763),\n",
      "   ('scsi', 0.04892842),\n",
      "   ('direct', 0.047933534),\n",
      "   ('ide', 0.033176),\n",
      "   ('reliable', 0.022042625),\n",
      "   ('nntp_posting', 0.02104508),\n",
      "   ('daughter', 0.019738613),\n",
      "   ('compression', 0.01602752)]),\n",
      " (5,\n",
      "  [('com', 0.08351721),\n",
      "   ('distribution', 0.067703746),\n",
      "   ('picture', 0.058671534),\n",
      "   ('office', 0.05847105),\n",
      "   ('object', 0.03826139),\n",
      "   ('frame', 0.024857951),\n",
      "   ('unlikely', 0.023364466),\n",
      "   ('corporation', 0.021947483),\n",
      "   ('expansion', 0.02182262),\n",
      "   ('confirm', 0.019920941)]),\n",
      " (12,\n",
      "  [('gun', 0.13408431),\n",
      "   ('fire', 0.05643083),\n",
      "   ('police', 0.043564778),\n",
      "   ('notice', 0.04232423),\n",
      "   ('weapon', 0.041240703),\n",
      "   ('shoot', 0.039761223),\n",
      "   ('firearm', 0.03081811),\n",
      "   ('boy', 0.029432932),\n",
      "   ('cop', 0.028001994),\n",
      "   ('rational', 0.027678367)]),\n",
      " (14,\n",
      "  [('kill', 0.035701197),\n",
      "   ('israeli', 0.02994488),\n",
      "   ('war', 0.028453993),\n",
      "   ('soldier', 0.026708812),\n",
      "   ('lebanese', 0.025596483),\n",
      "   ('attack', 0.025039593),\n",
      "   ('village', 0.023727212),\n",
      "   ('military', 0.021031342),\n",
      "   ('death', 0.020261917),\n",
      "   ('government', 0.018974084)]),\n",
      " (3,\n",
      "  [('ax', 0.70810014),\n",
      "   ('agency', 0.01244094),\n",
      "   ('market', 0.012321925),\n",
      "   ('upgrade', 0.010364417),\n",
      "   ('gift', 0.009985579),\n",
      "   ('cd', 0.009599926),\n",
      "   ('sc', 0.009134934),\n",
      "   ('hell', 0.009087194),\n",
      "   ('own', 0.005317484),\n",
      "   ('brother', 0.0043910486)]),\n",
      " (6,\n",
      "  [('system', 0.035607338),\n",
      "   ('use', 0.0231998),\n",
      "   ('include', 0.017739553),\n",
      "   ('information', 0.016121186),\n",
      "   ('card', 0.014072915),\n",
      "   ('also', 0.012458092),\n",
      "   ('send', 0.01188439),\n",
      "   ('available', 0.011407022),\n",
      "   ('list', 0.011386695),\n",
      "   ('new', 0.01091473)]),\n",
      " (10,\n",
      "  [('go', 0.048582125),\n",
      "   ('think', 0.024662798),\n",
      "   ('get', 0.024388188),\n",
      "   ('s', 0.021712359),\n",
      "   ('be', 0.02090909),\n",
      "   ('good', 0.020825017),\n",
      "   ('year', 0.019893937),\n",
      "   ('come', 0.01714239),\n",
      "   ('team', 0.015325502),\n",
      "   ('say', 0.014952443)]),\n",
      " (1,\n",
      "  [('people', 0.02793436),\n",
      "   ('say', 0.024310745),\n",
      "   ('would', 0.015399925),\n",
      "   ('think', 0.013962075),\n",
      "   ('reason', 0.012903744),\n",
      "   ('believe', 0.012432781),\n",
      "   ('evidence', 0.011009986),\n",
      "   ('know', 0.010795133),\n",
      "   ('make', 0.008689005),\n",
      "   ('may', 0.008562191)]),\n",
      " (4,\n",
      "  [('line', 0.10804065),\n",
      "   ('write', 0.0770069),\n",
      "   ('article', 0.046184596),\n",
      "   ('host', 0.03480723),\n",
      "   ('nntp_poste', 0.03285902),\n",
      "   ('organization', 0.030858656),\n",
      "   ('be', 0.025887072),\n",
      "   ('know', 0.025519116),\n",
      "   ('would', 0.022792818),\n",
      "   ('thank', 0.020535944)]),\n",
      " (9,\n",
      "  [('would', 0.015578134),\n",
      "   ('make', 0.015059736),\n",
      "   ('may', 0.014866312),\n",
      "   ('time', 0.014166109),\n",
      "   ('also', 0.011027921),\n",
      "   ('much', 0.010220823),\n",
      "   ('work', 0.009947683),\n",
      "   ('well', 0.008793207),\n",
      "   ('first', 0.0074877124),\n",
      "   ('way', 0.0071968627)])]\n",
      "\n",
      "Coherence Score:  0.499899150378291\n"
     ]
    }
   ],
   "source": [
    "# Show Topics\n",
    "pprint(lda_model.show_topics(formatted=False))\n",
    "\n",
    "# Compute Coherence Score\n",
    "coherence_model_lda = CoherenceModel(model=lda_model, texts=data_lemmatized, dictionary=id2word, coherence='c_v')\n",
    "coherence_lda = coherence_model_lda.get_coherence()\n",
    "print('\\nCoherence Score: ', coherence_lda)"
   ]
  },
  {
   "cell_type": "code",
   "execution_count": 41,
   "metadata": {},
   "outputs": [],
   "source": [
    "def compute_coherence_values(dictionary, corpus, texts, limit, start=2, step=3):\n",
    "    \"\"\"\n",
    "    Compute c_v coherence for various number of topics\n",
    "\n",
    "    Parameters:\n",
    "    ----------\n",
    "    dictionary : Gensim dictionary\n",
    "    corpus : Gensim corpus\n",
    "    texts : List of input texts\n",
    "    limit : Max num of topics\n",
    "\n",
    "    Returns:\n",
    "    -------\n",
    "    model_list : List of LDA topic models\n",
    "    coherence_values : Coherence values corresponding to the LDA model with respective number of topics\n",
    "    \"\"\"\n",
    "    coherence_values = []\n",
    "    model_list = []\n",
    "    for num_topics in range(start, limit, step):\n",
    "#         model = gensim.models.wrappers.LdaMallet(mallet_path, corpus=corpus, num_topics=num_topics, id2word=id2word)\n",
    "        model = gensim.models.ldamodel.LdaModel(corpus=corpus,\n",
    "                                           id2word=id2word,\n",
    "                                           num_topics=num_topics, \n",
    "                                           random_state=100,\n",
    "                                           update_every=1,\n",
    "                                           chunksize=100,\n",
    "                                           passes=10,\n",
    "                                           alpha='auto',\n",
    "                                           per_word_topics=True)\n",
    "\n",
    "        model_list.append(model)\n",
    "        coherencemodel = CoherenceModel(model=model, texts=texts, dictionary=dictionary, coherence='c_v')\n",
    "        coherence_values.append(coherencemodel.get_coherence())\n",
    "\n",
    "    return model_list, coherence_values"
   ]
  },
  {
   "cell_type": "code",
   "execution_count": 42,
   "metadata": {},
   "outputs": [],
   "source": [
    "# Can take a long time to run.\n",
    "model_list, coherence_values = compute_coherence_values(dictionary=id2word, corpus=corpus, texts=data_lemmatized, start=2, limit=40, step=6)"
   ]
  },
  {
   "cell_type": "code",
   "execution_count": 43,
   "metadata": {},
   "outputs": [
    {
     "data": {
      "image/png": "[encoded data removed]",
      "text/plain": [
       "<Figure size 432x288 with 1 Axes>"
      ]
     },
     "metadata": {
      "needs_background": "light"
     },
     "output_type": "display_data"
    }
   ],
   "source": [
    "# Show graph\n",
    "limit=40; start=2; step=6;\n",
    "x = range(start, limit, step)\n",
    "plt.plot(x, coherence_values)\n",
    "plt.xlabel(\"Num Topics\")\n",
    "plt.ylabel(\"Coherence score\")\n",
    "plt.legend((\"coherence_values\"), loc='best')\n",
    "plt.show()"
   ]
  },
  {
   "cell_type": "code",
   "execution_count": null,
   "metadata": {},
   "outputs": [],
   "source": []
  }
 ],
 "metadata": {
  "kernelspec": {
   "display_name": "Python 3",
   "language": "python",
   "name": "python3"
  },
  "language_info": {
   "codemirror_mode": {
    "name": "ipython",
    "version": 3
   },
   "file_extension": ".py",
   "mimetype": "text/x-python",
   "name": "python",
   "nbconvert_exporter": "python",
   "pygments_lexer": "ipython3",
   "version": "3.8.3"
  }
 },
 "nbformat": 4,
 "nbformat_minor": 4
}
